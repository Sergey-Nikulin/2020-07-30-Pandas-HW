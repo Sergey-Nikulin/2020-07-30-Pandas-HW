{
 "cells": [
  {
   "cell_type": "markdown",
   "metadata": {},
   "source": [
    "# Основы pandas"
   ]
  },
  {
   "cell_type": "code",
   "execution_count": 1,
   "metadata": {},
   "outputs": [],
   "source": [
    "import pandas as pd"
   ]
  },
  {
   "cell_type": "markdown",
   "metadata": {},
   "source": [
    "Пример забора данных с сайтов"
   ]
  },
  {
   "cell_type": "code",
   "execution_count": 2,
   "metadata": {
    "scrolled": true
   },
   "outputs": [
    {
     "data": {
      "text/html": [
       "<div>\n",
       "<style scoped>\n",
       "    .dataframe tbody tr th:only-of-type {\n",
       "        vertical-align: middle;\n",
       "    }\n",
       "\n",
       "    .dataframe tbody tr th {\n",
       "        vertical-align: top;\n",
       "    }\n",
       "\n",
       "    .dataframe thead th {\n",
       "        text-align: right;\n",
       "    }\n",
       "</style>\n",
       "<table border=\"1\" class=\"dataframe\">\n",
       "  <thead>\n",
       "    <tr style=\"text-align: right;\">\n",
       "      <th></th>\n",
       "      <th>Курсы валют</th>\n",
       "      <th>с 18.08.2020</th>\n",
       "      <th>с 19.08.2020</th>\n",
       "    </tr>\n",
       "  </thead>\n",
       "  <tbody>\n",
       "    <tr>\n",
       "      <th>0</th>\n",
       "      <td>Доллар США</td>\n",
       "      <td>72,9676₽</td>\n",
       "      <td>73,4321₽</td>\n",
       "    </tr>\n",
       "    <tr>\n",
       "      <th>1</th>\n",
       "      <td>Евро</td>\n",
       "      <td>86,4666₽</td>\n",
       "      <td>87,3401₽</td>\n",
       "    </tr>\n",
       "  </tbody>\n",
       "</table>\n",
       "</div>"
      ],
      "text/plain": [
       "  Курсы валют с 18.08.2020 с 19.08.2020\n",
       "0  Доллар США     72,9676₽     73,4321₽\n",
       "1        Евро     86,4666₽     87,3401₽"
      ]
     },
     "execution_count": 2,
     "metadata": {},
     "output_type": "execute_result"
    }
   ],
   "source": [
    "pd.read_html('http://www.cbr.ru')[0]"
   ]
  },
  {
   "cell_type": "code",
   "execution_count": 3,
   "metadata": {},
   "outputs": [
    {
     "data": {
      "text/plain": [
       "[     0       1      2        3       4     5        6       7      8   \\\n",
       " 0  ММВБ   3 052  -0,3%   Nasdaq  11 130  1,0%  Биткойн  12 349   0,5%   \n",
       " 1   РТС   1 309  -1,1%   S&P500   3 382  0,0%    Нефть     452  -0,3%   \n",
       " 2   Dow  27 845  -0,3%  FTSE100   6 127  0,6%   Золото   1 991   0,3%   \n",
       " \n",
       "         9       10     11  \n",
       " 0  USD/RUB  736214  -0,1%  \n",
       " 1  EUR/RUB  875485   0,1%  \n",
       " 2  EUR/USD   11890   0,1%  ]"
      ]
     },
     "execution_count": 3,
     "metadata": {},
     "output_type": "execute_result"
    }
   ],
   "source": [
    "pd.read_html('https://www.finanz.ru/valyuty/usd-rub', encoding='utf-8')[:1]"
   ]
  },
  {
   "cell_type": "code",
   "execution_count": 4,
   "metadata": {},
   "outputs": [],
   "source": [
    "page_url = 'https://www.finanz.ru/valyuty/usd-rub'\n",
    "\n",
    "# Импортируем нужную нам страницу в df\n",
    "#attrs = {'class': 'news_table'} ---> указываем какой именно блок нам нужен\n",
    "#encoding='utf-8' ---> указываем кодировку страниц для корректного отображения кириллицы\n",
    "df = pd.read_html(page_url, attrs = {'class': 'news_table'}, encoding='utf-8')"
   ]
  },
  {
   "cell_type": "code",
   "execution_count": 5,
   "metadata": {},
   "outputs": [],
   "source": [
    "#df[:5][0]"
   ]
  },
  {
   "cell_type": "markdown",
   "metadata": {},
   "source": [
    "Импорт данных из файла"
   ]
  },
  {
   "cell_type": "code",
   "execution_count": 6,
   "metadata": {
    "scrolled": false
   },
   "outputs": [
    {
     "data": {
      "text/html": [
       "<div>\n",
       "<style scoped>\n",
       "    .dataframe tbody tr th:only-of-type {\n",
       "        vertical-align: middle;\n",
       "    }\n",
       "\n",
       "    .dataframe tbody tr th {\n",
       "        vertical-align: top;\n",
       "    }\n",
       "\n",
       "    .dataframe thead th {\n",
       "        text-align: right;\n",
       "    }\n",
       "</style>\n",
       "<table border=\"1\" class=\"dataframe\">\n",
       "  <thead>\n",
       "    <tr style=\"text-align: right;\">\n",
       "      <th></th>\n",
       "      <th>country</th>\n",
       "      <th>year</th>\n",
       "      <th>quantity</th>\n",
       "      <th>category</th>\n",
       "    </tr>\n",
       "  </thead>\n",
       "  <tbody>\n",
       "    <tr>\n",
       "      <th>0</th>\n",
       "      <td>Austria</td>\n",
       "      <td>1996</td>\n",
       "      <td>5.0</td>\n",
       "      <td>1</td>\n",
       "    </tr>\n",
       "    <tr>\n",
       "      <th>1</th>\n",
       "      <td>Austria</td>\n",
       "      <td>1995</td>\n",
       "      <td>17.0</td>\n",
       "      <td>1</td>\n",
       "    </tr>\n",
       "    <tr>\n",
       "      <th>2</th>\n",
       "      <td>Belgium</td>\n",
       "      <td>2014</td>\n",
       "      <td>0.0</td>\n",
       "      <td>1</td>\n",
       "    </tr>\n",
       "    <tr>\n",
       "      <th>3</th>\n",
       "      <td>Belgium</td>\n",
       "      <td>2013</td>\n",
       "      <td>0.0</td>\n",
       "      <td>1</td>\n",
       "    </tr>\n",
       "    <tr>\n",
       "      <th>4</th>\n",
       "      <td>Belgium</td>\n",
       "      <td>2012</td>\n",
       "      <td>35.0</td>\n",
       "      <td>1</td>\n",
       "    </tr>\n",
       "  </tbody>\n",
       "</table>\n",
       "</div>"
      ],
      "text/plain": [
       "   country  year  quantity  category\n",
       "0  Austria  1996       5.0         1\n",
       "1  Austria  1995      17.0         1\n",
       "2  Belgium  2014       0.0         1\n",
       "3  Belgium  2013       0.0         1\n",
       "4  Belgium  2012      35.0         1"
      ]
     },
     "execution_count": 6,
     "metadata": {},
     "output_type": "execute_result"
    }
   ],
   "source": [
    "data = pd.read_csv('power.csv')\n",
    "data.head()"
   ]
  },
  {
   "cell_type": "code",
   "execution_count": 7,
   "metadata": {},
   "outputs": [
    {
     "data": {
      "text/html": [
       "<div>\n",
       "<style scoped>\n",
       "    .dataframe tbody tr th:only-of-type {\n",
       "        vertical-align: middle;\n",
       "    }\n",
       "\n",
       "    .dataframe tbody tr th {\n",
       "        vertical-align: top;\n",
       "    }\n",
       "\n",
       "    .dataframe thead th {\n",
       "        text-align: right;\n",
       "    }\n",
       "</style>\n",
       "<table border=\"1\" class=\"dataframe\">\n",
       "  <thead>\n",
       "    <tr style=\"text-align: right;\">\n",
       "      <th></th>\n",
       "      <th>country</th>\n",
       "      <th>year</th>\n",
       "      <th>quantity</th>\n",
       "      <th>category</th>\n",
       "    </tr>\n",
       "  </thead>\n",
       "  <tbody>\n",
       "    <tr>\n",
       "      <th>1189477</th>\n",
       "      <td>Viet Nam</td>\n",
       "      <td>2012</td>\n",
       "      <td>92.0</td>\n",
       "      <td>71</td>\n",
       "    </tr>\n",
       "    <tr>\n",
       "      <th>1189478</th>\n",
       "      <td>Viet Nam</td>\n",
       "      <td>2011</td>\n",
       "      <td>87.0</td>\n",
       "      <td>71</td>\n",
       "    </tr>\n",
       "    <tr>\n",
       "      <th>1189479</th>\n",
       "      <td>Viet Nam</td>\n",
       "      <td>2010</td>\n",
       "      <td>50.0</td>\n",
       "      <td>71</td>\n",
       "    </tr>\n",
       "    <tr>\n",
       "      <th>1189480</th>\n",
       "      <td>Viet Nam</td>\n",
       "      <td>2009</td>\n",
       "      <td>10.0</td>\n",
       "      <td>71</td>\n",
       "    </tr>\n",
       "    <tr>\n",
       "      <th>1189481</th>\n",
       "      <td>Viet Nam</td>\n",
       "      <td>2008</td>\n",
       "      <td>1.0</td>\n",
       "      <td>71</td>\n",
       "    </tr>\n",
       "  </tbody>\n",
       "</table>\n",
       "</div>"
      ],
      "text/plain": [
       "          country  year  quantity  category\n",
       "1189477  Viet Nam  2012      92.0        71\n",
       "1189478  Viet Nam  2011      87.0        71\n",
       "1189479  Viet Nam  2010      50.0        71\n",
       "1189480  Viet Nam  2009      10.0        71\n",
       "1189481  Viet Nam  2008       1.0        71"
      ]
     },
     "execution_count": 7,
     "metadata": {},
     "output_type": "execute_result"
    }
   ],
   "source": [
    "data.tail()"
   ]
  },
  {
   "cell_type": "code",
   "execution_count": 8,
   "metadata": {
    "scrolled": true
   },
   "outputs": [
    {
     "data": {
      "text/plain": [
       "pandas.core.frame.DataFrame"
      ]
     },
     "execution_count": 8,
     "metadata": {},
     "output_type": "execute_result"
    }
   ],
   "source": [
    "type(data)"
   ]
  },
  {
   "cell_type": "code",
   "execution_count": 9,
   "metadata": {},
   "outputs": [],
   "source": [
    "?pd.read_csv"
   ]
  },
  {
   "cell_type": "code",
   "execution_count": 10,
   "metadata": {},
   "outputs": [],
   "source": [
    "# если надо указать свои заголовки и разделитель\n",
    "# data = pd.read_csv('power.csv', names = ['страна', 'год', 'количество', 'категория'], sep = '\\t', header=0)\n",
    "# data.head()"
   ]
  },
  {
   "cell_type": "code",
   "execution_count": 11,
   "metadata": {},
   "outputs": [
    {
     "data": {
      "text/plain": [
       "1189482"
      ]
     },
     "execution_count": 11,
     "metadata": {},
     "output_type": "execute_result"
    }
   ],
   "source": [
    "# количество строк в датафрейме\n",
    "\n",
    "len(data)"
   ]
  },
  {
   "cell_type": "code",
   "execution_count": 12,
   "metadata": {},
   "outputs": [
    {
     "data": {
      "text/plain": [
       "(1189482, 4)"
      ]
     },
     "execution_count": 12,
     "metadata": {},
     "output_type": "execute_result"
    }
   ],
   "source": [
    "# или так\n",
    "\n",
    "data.shape"
   ]
  },
  {
   "cell_type": "markdown",
   "metadata": {},
   "source": [
    "Простые вычисления для нового столбца"
   ]
  },
  {
   "cell_type": "code",
   "execution_count": 13,
   "metadata": {
    "scrolled": true
   },
   "outputs": [
    {
     "data": {
      "text/html": [
       "<div>\n",
       "<style scoped>\n",
       "    .dataframe tbody tr th:only-of-type {\n",
       "        vertical-align: middle;\n",
       "    }\n",
       "\n",
       "    .dataframe tbody tr th {\n",
       "        vertical-align: top;\n",
       "    }\n",
       "\n",
       "    .dataframe thead th {\n",
       "        text-align: right;\n",
       "    }\n",
       "</style>\n",
       "<table border=\"1\" class=\"dataframe\">\n",
       "  <thead>\n",
       "    <tr style=\"text-align: right;\">\n",
       "      <th></th>\n",
       "      <th>country</th>\n",
       "      <th>year</th>\n",
       "      <th>quantity</th>\n",
       "      <th>category</th>\n",
       "      <th>year_plus_one</th>\n",
       "    </tr>\n",
       "  </thead>\n",
       "  <tbody>\n",
       "    <tr>\n",
       "      <th>0</th>\n",
       "      <td>Austria</td>\n",
       "      <td>1996</td>\n",
       "      <td>5.0</td>\n",
       "      <td>1</td>\n",
       "      <td>1997</td>\n",
       "    </tr>\n",
       "    <tr>\n",
       "      <th>1</th>\n",
       "      <td>Austria</td>\n",
       "      <td>1995</td>\n",
       "      <td>17.0</td>\n",
       "      <td>1</td>\n",
       "      <td>1996</td>\n",
       "    </tr>\n",
       "    <tr>\n",
       "      <th>2</th>\n",
       "      <td>Belgium</td>\n",
       "      <td>2014</td>\n",
       "      <td>0.0</td>\n",
       "      <td>1</td>\n",
       "      <td>2015</td>\n",
       "    </tr>\n",
       "    <tr>\n",
       "      <th>3</th>\n",
       "      <td>Belgium</td>\n",
       "      <td>2013</td>\n",
       "      <td>0.0</td>\n",
       "      <td>1</td>\n",
       "      <td>2014</td>\n",
       "    </tr>\n",
       "    <tr>\n",
       "      <th>4</th>\n",
       "      <td>Belgium</td>\n",
       "      <td>2012</td>\n",
       "      <td>35.0</td>\n",
       "      <td>1</td>\n",
       "      <td>2013</td>\n",
       "    </tr>\n",
       "  </tbody>\n",
       "</table>\n",
       "</div>"
      ],
      "text/plain": [
       "   country  year  quantity  category  year_plus_one\n",
       "0  Austria  1996       5.0         1           1997\n",
       "1  Austria  1995      17.0         1           1996\n",
       "2  Belgium  2014       0.0         1           2015\n",
       "3  Belgium  2013       0.0         1           2014\n",
       "4  Belgium  2012      35.0         1           2013"
      ]
     },
     "execution_count": 13,
     "metadata": {},
     "output_type": "execute_result"
    }
   ],
   "source": [
    "data['year_plus_one'] = data['year'] + 1\n",
    "data.head()"
   ]
  },
  {
   "cell_type": "markdown",
   "metadata": {},
   "source": [
    "### Упражнение\n",
    "Вам дана статистика продаж в файле transactions.csv. Вам необходимо загрузить этот файл в датафрейм и посчитать его размеры."
   ]
  },
  {
   "cell_type": "code",
   "execution_count": 14,
   "metadata": {},
   "outputs": [
    {
     "data": {
      "text/html": [
       "<div>\n",
       "<style scoped>\n",
       "    .dataframe tbody tr th:only-of-type {\n",
       "        vertical-align: middle;\n",
       "    }\n",
       "\n",
       "    .dataframe tbody tr th {\n",
       "        vertical-align: top;\n",
       "    }\n",
       "\n",
       "    .dataframe thead th {\n",
       "        text-align: right;\n",
       "    }\n",
       "</style>\n",
       "<table border=\"1\" class=\"dataframe\">\n",
       "  <thead>\n",
       "    <tr style=\"text-align: right;\">\n",
       "      <th></th>\n",
       "      <th>Year</th>\n",
       "      <th>Month</th>\n",
       "      <th>ID</th>\n",
       "      <th>Product</th>\n",
       "      <th>Amount</th>\n",
       "      <th>Price</th>\n",
       "      <th>Total</th>\n",
       "      <th>Cost</th>\n",
       "    </tr>\n",
       "  </thead>\n",
       "  <tbody>\n",
       "    <tr>\n",
       "      <th>55</th>\n",
       "      <td>2017</td>\n",
       "      <td>12</td>\n",
       "      <td>t056</td>\n",
       "      <td>_4</td>\n",
       "      <td>2</td>\n",
       "      <td>8618</td>\n",
       "      <td>17236</td>\n",
       "      <td>1200</td>\n",
       "    </tr>\n",
       "    <tr>\n",
       "      <th>56</th>\n",
       "      <td>2017</td>\n",
       "      <td>12</td>\n",
       "      <td>t057</td>\n",
       "      <td>_2</td>\n",
       "      <td>8</td>\n",
       "      <td>1896</td>\n",
       "      <td>15168</td>\n",
       "      <td>1200</td>\n",
       "    </tr>\n",
       "    <tr>\n",
       "      <th>57</th>\n",
       "      <td>2017</td>\n",
       "      <td>12</td>\n",
       "      <td>t058</td>\n",
       "      <td>_5</td>\n",
       "      <td>2</td>\n",
       "      <td>5175</td>\n",
       "      <td>10350</td>\n",
       "      <td>200</td>\n",
       "    </tr>\n",
       "    <tr>\n",
       "      <th>58</th>\n",
       "      <td>2017</td>\n",
       "      <td>12</td>\n",
       "      <td>t059</td>\n",
       "      <td>_8</td>\n",
       "      <td>3</td>\n",
       "      <td>3760</td>\n",
       "      <td>11280</td>\n",
       "      <td>800</td>\n",
       "    </tr>\n",
       "    <tr>\n",
       "      <th>59</th>\n",
       "      <td>2017</td>\n",
       "      <td>12</td>\n",
       "      <td>t060</td>\n",
       "      <td>_3</td>\n",
       "      <td>4</td>\n",
       "      <td>1265</td>\n",
       "      <td>5060</td>\n",
       "      <td>700</td>\n",
       "    </tr>\n",
       "  </tbody>\n",
       "</table>\n",
       "</div>"
      ],
      "text/plain": [
       "    Year  Month    ID Product  Amount  Price  Total  Cost\n",
       "55  2017     12  t056      _4       2   8618  17236  1200\n",
       "56  2017     12  t057      _2       8   1896  15168  1200\n",
       "57  2017     12  t058      _5       2   5175  10350   200\n",
       "58  2017     12  t059      _8       3   3760  11280   800\n",
       "59  2017     12  t060      _3       4   1265   5060   700"
      ]
     },
     "execution_count": 14,
     "metadata": {},
     "output_type": "execute_result"
    }
   ],
   "source": [
    "data = pd.read_csv('transactions.csv')\n",
    "data.tail()\n"
   ]
  },
  {
   "cell_type": "code",
   "execution_count": 15,
   "metadata": {},
   "outputs": [
    {
     "data": {
      "text/plain": [
       "pandas.core.frame.DataFrame"
      ]
     },
     "execution_count": 15,
     "metadata": {},
     "output_type": "execute_result"
    }
   ],
   "source": [
    "type(data)"
   ]
  },
  {
   "cell_type": "code",
   "execution_count": 16,
   "metadata": {},
   "outputs": [
    {
     "data": {
      "text/plain": [
       "60"
      ]
     },
     "execution_count": 16,
     "metadata": {},
     "output_type": "execute_result"
    }
   ],
   "source": [
    "len(data)"
   ]
  },
  {
   "cell_type": "code",
   "execution_count": 17,
   "metadata": {},
   "outputs": [
    {
     "data": {
      "text/plain": [
       "(60, 8)"
      ]
     },
     "execution_count": 17,
     "metadata": {},
     "output_type": "execute_result"
    }
   ],
   "source": [
    "data.shape"
   ]
  },
  {
   "cell_type": "code",
   "execution_count": null,
   "metadata": {},
   "outputs": [],
   "source": []
  },
  {
   "cell_type": "markdown",
   "metadata": {},
   "source": [
    "### Основные сведения о датафрейме"
   ]
  },
  {
   "cell_type": "code",
   "execution_count": 18,
   "metadata": {},
   "outputs": [
    {
     "name": "stdout",
     "output_type": "stream",
     "text": [
      "<class 'pandas.core.frame.DataFrame'>\n",
      "RangeIndex: 60 entries, 0 to 59\n",
      "Data columns (total 8 columns):\n",
      " #   Column   Non-Null Count  Dtype \n",
      "---  ------   --------------  ----- \n",
      " 0   Year     60 non-null     int64 \n",
      " 1   Month    60 non-null     int64 \n",
      " 2   ID       60 non-null     object\n",
      " 3   Product  60 non-null     object\n",
      " 4   Amount   60 non-null     int64 \n",
      " 5   Price    60 non-null     int64 \n",
      " 6   Total    60 non-null     int64 \n",
      " 7   Cost     60 non-null     int64 \n",
      "dtypes: int64(6), object(2)\n",
      "memory usage: 3.9+ KB\n"
     ]
    }
   ],
   "source": [
    "data.info()"
   ]
  },
  {
   "cell_type": "code",
   "execution_count": 19,
   "metadata": {
    "scrolled": false
   },
   "outputs": [
    {
     "data": {
      "text/html": [
       "<div>\n",
       "<style scoped>\n",
       "    .dataframe tbody tr th:only-of-type {\n",
       "        vertical-align: middle;\n",
       "    }\n",
       "\n",
       "    .dataframe tbody tr th {\n",
       "        vertical-align: top;\n",
       "    }\n",
       "\n",
       "    .dataframe thead th {\n",
       "        text-align: right;\n",
       "    }\n",
       "</style>\n",
       "<table border=\"1\" class=\"dataframe\">\n",
       "  <thead>\n",
       "    <tr style=\"text-align: right;\">\n",
       "      <th></th>\n",
       "      <th>Year</th>\n",
       "      <th>Month</th>\n",
       "      <th>Amount</th>\n",
       "      <th>Price</th>\n",
       "      <th>Total</th>\n",
       "      <th>Cost</th>\n",
       "    </tr>\n",
       "  </thead>\n",
       "  <tbody>\n",
       "    <tr>\n",
       "      <th>count</th>\n",
       "      <td>60.0</td>\n",
       "      <td>60.000000</td>\n",
       "      <td>60.000000</td>\n",
       "      <td>60.000000</td>\n",
       "      <td>60.000000</td>\n",
       "      <td>60.000000</td>\n",
       "    </tr>\n",
       "    <tr>\n",
       "      <th>mean</th>\n",
       "      <td>2017.0</td>\n",
       "      <td>7.250000</td>\n",
       "      <td>3.650000</td>\n",
       "      <td>4427.183333</td>\n",
       "      <td>14072.183333</td>\n",
       "      <td>1063.333333</td>\n",
       "    </tr>\n",
       "    <tr>\n",
       "      <th>std</th>\n",
       "      <td>0.0</td>\n",
       "      <td>3.337638</td>\n",
       "      <td>2.184886</td>\n",
       "      <td>2506.427558</td>\n",
       "      <td>8966.190387</td>\n",
       "      <td>902.297757</td>\n",
       "    </tr>\n",
       "    <tr>\n",
       "      <th>min</th>\n",
       "      <td>2017.0</td>\n",
       "      <td>1.000000</td>\n",
       "      <td>1.000000</td>\n",
       "      <td>1265.000000</td>\n",
       "      <td>1896.000000</td>\n",
       "      <td>200.000000</td>\n",
       "    </tr>\n",
       "    <tr>\n",
       "      <th>25%</th>\n",
       "      <td>2017.0</td>\n",
       "      <td>5.000000</td>\n",
       "      <td>2.000000</td>\n",
       "      <td>1896.000000</td>\n",
       "      <td>7584.000000</td>\n",
       "      <td>650.000000</td>\n",
       "    </tr>\n",
       "    <tr>\n",
       "      <th>50%</th>\n",
       "      <td>2017.0</td>\n",
       "      <td>7.000000</td>\n",
       "      <td>3.000000</td>\n",
       "      <td>3760.000000</td>\n",
       "      <td>11280.000000</td>\n",
       "      <td>800.000000</td>\n",
       "    </tr>\n",
       "    <tr>\n",
       "      <th>75%</th>\n",
       "      <td>2017.0</td>\n",
       "      <td>10.250000</td>\n",
       "      <td>5.000000</td>\n",
       "      <td>5175.000000</td>\n",
       "      <td>17236.000000</td>\n",
       "      <td>1200.000000</td>\n",
       "    </tr>\n",
       "    <tr>\n",
       "      <th>max</th>\n",
       "      <td>2017.0</td>\n",
       "      <td>12.000000</td>\n",
       "      <td>10.000000</td>\n",
       "      <td>8618.000000</td>\n",
       "      <td>37600.000000</td>\n",
       "      <td>4200.000000</td>\n",
       "    </tr>\n",
       "  </tbody>\n",
       "</table>\n",
       "</div>"
      ],
      "text/plain": [
       "         Year      Month     Amount        Price         Total         Cost\n",
       "count    60.0  60.000000  60.000000    60.000000     60.000000    60.000000\n",
       "mean   2017.0   7.250000   3.650000  4427.183333  14072.183333  1063.333333\n",
       "std       0.0   3.337638   2.184886  2506.427558   8966.190387   902.297757\n",
       "min    2017.0   1.000000   1.000000  1265.000000   1896.000000   200.000000\n",
       "25%    2017.0   5.000000   2.000000  1896.000000   7584.000000   650.000000\n",
       "50%    2017.0   7.000000   3.000000  3760.000000  11280.000000   800.000000\n",
       "75%    2017.0  10.250000   5.000000  5175.000000  17236.000000  1200.000000\n",
       "max    2017.0  12.000000  10.000000  8618.000000  37600.000000  4200.000000"
      ]
     },
     "execution_count": 19,
     "metadata": {},
     "output_type": "execute_result"
    }
   ],
   "source": [
    "# немного статистики\n",
    "\n",
    "data.describe()"
   ]
  },
  {
   "cell_type": "markdown",
   "metadata": {},
   "source": [
    "### Отдельный столбец (тип Series)"
   ]
  },
  {
   "cell_type": "code",
   "execution_count": 20,
   "metadata": {},
   "outputs": [
    {
     "data": {
      "text/plain": [
       "0    2017\n",
       "1    2017\n",
       "2    2017\n",
       "3    2017\n",
       "4    2017\n",
       "Name: Year, dtype: int64"
      ]
     },
     "execution_count": 20,
     "metadata": {},
     "output_type": "execute_result"
    }
   ],
   "source": [
    "data['Year'].head()"
   ]
  },
  {
   "cell_type": "code",
   "execution_count": 21,
   "metadata": {},
   "outputs": [
    {
     "data": {
      "text/plain": [
       "0    2017\n",
       "1    2017\n",
       "2    2017\n",
       "3    2017\n",
       "4    2017\n",
       "Name: Year, dtype: int64"
      ]
     },
     "execution_count": 21,
     "metadata": {},
     "output_type": "execute_result"
    }
   ],
   "source": [
    "# или так\n",
    "\n",
    "data.Year.head()"
   ]
  },
  {
   "cell_type": "code",
   "execution_count": 22,
   "metadata": {
    "scrolled": true
   },
   "outputs": [
    {
     "data": {
      "text/plain": [
       "pandas.core.series.Series"
      ]
     },
     "execution_count": 22,
     "metadata": {},
     "output_type": "execute_result"
    }
   ],
   "source": [
    "type(data['Year'])"
   ]
  },
  {
   "cell_type": "code",
   "execution_count": 23,
   "metadata": {},
   "outputs": [
    {
     "data": {
      "text/html": [
       "<div>\n",
       "<style scoped>\n",
       "    .dataframe tbody tr th:only-of-type {\n",
       "        vertical-align: middle;\n",
       "    }\n",
       "\n",
       "    .dataframe tbody tr th {\n",
       "        vertical-align: top;\n",
       "    }\n",
       "\n",
       "    .dataframe thead th {\n",
       "        text-align: right;\n",
       "    }\n",
       "</style>\n",
       "<table border=\"1\" class=\"dataframe\">\n",
       "  <thead>\n",
       "    <tr style=\"text-align: right;\">\n",
       "      <th></th>\n",
       "      <th>Year</th>\n",
       "      <th>Month</th>\n",
       "      <th>ID</th>\n",
       "      <th>Product</th>\n",
       "      <th>Amount</th>\n",
       "      <th>Price</th>\n",
       "      <th>Total</th>\n",
       "      <th>Cost</th>\n",
       "    </tr>\n",
       "  </thead>\n",
       "  <tbody>\n",
       "    <tr>\n",
       "      <th>0</th>\n",
       "      <td>2017</td>\n",
       "      <td>1</td>\n",
       "      <td>t001</td>\n",
       "      <td>A1</td>\n",
       "      <td>7</td>\n",
       "      <td>2904</td>\n",
       "      <td>20328</td>\n",
       "      <td>1200</td>\n",
       "    </tr>\n",
       "    <tr>\n",
       "      <th>1</th>\n",
       "      <td>2017</td>\n",
       "      <td>1</td>\n",
       "      <td>t002</td>\n",
       "      <td>A2</td>\n",
       "      <td>2</td>\n",
       "      <td>1896</td>\n",
       "      <td>3792</td>\n",
       "      <td>1100</td>\n",
       "    </tr>\n",
       "    <tr>\n",
       "      <th>2</th>\n",
       "      <td>2017</td>\n",
       "      <td>2</td>\n",
       "      <td>t003</td>\n",
       "      <td>A1</td>\n",
       "      <td>5</td>\n",
       "      <td>2904</td>\n",
       "      <td>14520</td>\n",
       "      <td>1200</td>\n",
       "    </tr>\n",
       "    <tr>\n",
       "      <th>3</th>\n",
       "      <td>2017</td>\n",
       "      <td>2</td>\n",
       "      <td>t004</td>\n",
       "      <td>A4</td>\n",
       "      <td>1</td>\n",
       "      <td>8618</td>\n",
       "      <td>8618</td>\n",
       "      <td>4200</td>\n",
       "    </tr>\n",
       "    <tr>\n",
       "      <th>4</th>\n",
       "      <td>2017</td>\n",
       "      <td>2</td>\n",
       "      <td>t005</td>\n",
       "      <td>A5</td>\n",
       "      <td>3</td>\n",
       "      <td>5175</td>\n",
       "      <td>15525</td>\n",
       "      <td>500</td>\n",
       "    </tr>\n",
       "  </tbody>\n",
       "</table>\n",
       "</div>"
      ],
      "text/plain": [
       "   Year  Month    ID Product  Amount  Price  Total  Cost\n",
       "0  2017      1  t001      A1       7   2904  20328  1200\n",
       "1  2017      1  t002      A2       2   1896   3792  1100\n",
       "2  2017      2  t003      A1       5   2904  14520  1200\n",
       "3  2017      2  t004      A4       1   8618   8618  4200\n",
       "4  2017      2  t005      A5       3   5175  15525   500"
      ]
     },
     "execution_count": 23,
     "metadata": {},
     "output_type": "execute_result"
    }
   ],
   "source": [
    "data.head()"
   ]
  },
  {
   "cell_type": "code",
   "execution_count": 24,
   "metadata": {},
   "outputs": [
    {
     "data": {
      "text/plain": [
       "array([2904, 1896, 8618, 5175], dtype=int64)"
      ]
     },
     "execution_count": 24,
     "metadata": {},
     "output_type": "execute_result"
    }
   ],
   "source": [
    "# уникальные значения в столбце\n",
    "\n",
    "data['Price'].head().unique()"
   ]
  },
  {
   "cell_type": "code",
   "execution_count": 25,
   "metadata": {},
   "outputs": [
    {
     "data": {
      "text/plain": [
       "7"
      ]
     },
     "execution_count": 25,
     "metadata": {},
     "output_type": "execute_result"
    }
   ],
   "source": [
    "data['Price'].nunique()"
   ]
  },
  {
   "cell_type": "code",
   "execution_count": 26,
   "metadata": {},
   "outputs": [
    {
     "data": {
      "text/plain": [
       "7"
      ]
     },
     "execution_count": 26,
     "metadata": {},
     "output_type": "execute_result"
    }
   ],
   "source": [
    "len(data['Price'].unique())"
   ]
  },
  {
   "cell_type": "code",
   "execution_count": 27,
   "metadata": {},
   "outputs": [
    {
     "data": {
      "text/plain": [
       "0    2904\n",
       "1    1896\n",
       "2    2904\n",
       "3    8618\n",
       "4    5175\n",
       "Name: Price, dtype: int64"
      ]
     },
     "execution_count": 27,
     "metadata": {},
     "output_type": "execute_result"
    }
   ],
   "source": [
    "data['Price'].head()"
   ]
  },
  {
   "cell_type": "code",
   "execution_count": 28,
   "metadata": {},
   "outputs": [
    {
     "data": {
      "text/plain": [
       "5175    16\n",
       "8618    12\n",
       "1896    10\n",
       "3760     8\n",
       "1265     7\n",
       "2904     5\n",
       "3500     2\n",
       "Name: Price, dtype: int64"
      ]
     },
     "execution_count": 28,
     "metadata": {},
     "output_type": "execute_result"
    }
   ],
   "source": [
    "# распределение количества строк по значениям столбца\n",
    "\n",
    "data['Price'].value_counts().head(10)"
   ]
  },
  {
   "cell_type": "code",
   "execution_count": 29,
   "metadata": {},
   "outputs": [
    {
     "data": {
      "text/plain": [
       "5175    0.266667\n",
       "8618    0.200000\n",
       "1896    0.166667\n",
       "3760    0.133333\n",
       "1265    0.116667\n",
       "Name: Price, dtype: float64"
      ]
     },
     "execution_count": 29,
     "metadata": {},
     "output_type": "execute_result"
    }
   ],
   "source": [
    "data['Price'].value_counts(normalize=True).head() #распределение в %."
   ]
  },
  {
   "cell_type": "markdown",
   "metadata": {},
   "source": [
    "### Упражнение\n",
    "Используем файл transactions.csv. Определите какой товар (столбец Product) упоминается в файле чаще всего?"
   ]
  },
  {
   "cell_type": "code",
   "execution_count": null,
   "metadata": {},
   "outputs": [],
   "source": []
  },
  {
   "cell_type": "code",
   "execution_count": null,
   "metadata": {},
   "outputs": [],
   "source": []
  },
  {
   "cell_type": "code",
   "execution_count": null,
   "metadata": {},
   "outputs": [],
   "source": []
  },
  {
   "cell_type": "markdown",
   "metadata": {},
   "source": [
    "# Фильтры"
   ]
  },
  {
   "cell_type": "code",
   "execution_count": 30,
   "metadata": {},
   "outputs": [
    {
     "data": {
      "text/html": [
       "<div>\n",
       "<style scoped>\n",
       "    .dataframe tbody tr th:only-of-type {\n",
       "        vertical-align: middle;\n",
       "    }\n",
       "\n",
       "    .dataframe tbody tr th {\n",
       "        vertical-align: top;\n",
       "    }\n",
       "\n",
       "    .dataframe thead th {\n",
       "        text-align: right;\n",
       "    }\n",
       "</style>\n",
       "<table border=\"1\" class=\"dataframe\">\n",
       "  <thead>\n",
       "    <tr style=\"text-align: right;\">\n",
       "      <th></th>\n",
       "      <th>country</th>\n",
       "      <th>year</th>\n",
       "      <th>quantity</th>\n",
       "      <th>category</th>\n",
       "    </tr>\n",
       "  </thead>\n",
       "  <tbody>\n",
       "    <tr>\n",
       "      <th>0</th>\n",
       "      <td>Austria</td>\n",
       "      <td>1996</td>\n",
       "      <td>5.0</td>\n",
       "      <td>1</td>\n",
       "    </tr>\n",
       "    <tr>\n",
       "      <th>1</th>\n",
       "      <td>Austria</td>\n",
       "      <td>1995</td>\n",
       "      <td>17.0</td>\n",
       "      <td>1</td>\n",
       "    </tr>\n",
       "    <tr>\n",
       "      <th>2</th>\n",
       "      <td>Belgium</td>\n",
       "      <td>2014</td>\n",
       "      <td>0.0</td>\n",
       "      <td>1</td>\n",
       "    </tr>\n",
       "    <tr>\n",
       "      <th>3</th>\n",
       "      <td>Belgium</td>\n",
       "      <td>2013</td>\n",
       "      <td>0.0</td>\n",
       "      <td>1</td>\n",
       "    </tr>\n",
       "    <tr>\n",
       "      <th>4</th>\n",
       "      <td>Belgium</td>\n",
       "      <td>2012</td>\n",
       "      <td>35.0</td>\n",
       "      <td>1</td>\n",
       "    </tr>\n",
       "  </tbody>\n",
       "</table>\n",
       "</div>"
      ],
      "text/plain": [
       "   country  year  quantity  category\n",
       "0  Austria  1996       5.0         1\n",
       "1  Austria  1995      17.0         1\n",
       "2  Belgium  2014       0.0         1\n",
       "3  Belgium  2013       0.0         1\n",
       "4  Belgium  2012      35.0         1"
      ]
     },
     "execution_count": 30,
     "metadata": {},
     "output_type": "execute_result"
    }
   ],
   "source": [
    "data = pd.read_csv('power.csv')\n",
    "data.head()"
   ]
  },
  {
   "cell_type": "code",
   "execution_count": 31,
   "metadata": {},
   "outputs": [
    {
     "data": {
      "text/html": [
       "<div>\n",
       "<style scoped>\n",
       "    .dataframe tbody tr th:only-of-type {\n",
       "        vertical-align: middle;\n",
       "    }\n",
       "\n",
       "    .dataframe tbody tr th {\n",
       "        vertical-align: top;\n",
       "    }\n",
       "\n",
       "    .dataframe thead th {\n",
       "        text-align: right;\n",
       "    }\n",
       "</style>\n",
       "<table border=\"1\" class=\"dataframe\">\n",
       "  <thead>\n",
       "    <tr style=\"text-align: right;\">\n",
       "      <th></th>\n",
       "      <th>country</th>\n",
       "      <th>quantity</th>\n",
       "    </tr>\n",
       "  </thead>\n",
       "  <tbody>\n",
       "    <tr>\n",
       "      <th>0</th>\n",
       "      <td>Austria</td>\n",
       "      <td>5.0</td>\n",
       "    </tr>\n",
       "    <tr>\n",
       "      <th>1</th>\n",
       "      <td>Austria</td>\n",
       "      <td>17.0</td>\n",
       "    </tr>\n",
       "    <tr>\n",
       "      <th>2</th>\n",
       "      <td>Belgium</td>\n",
       "      <td>0.0</td>\n",
       "    </tr>\n",
       "    <tr>\n",
       "      <th>3</th>\n",
       "      <td>Belgium</td>\n",
       "      <td>0.0</td>\n",
       "    </tr>\n",
       "    <tr>\n",
       "      <th>4</th>\n",
       "      <td>Belgium</td>\n",
       "      <td>35.0</td>\n",
       "    </tr>\n",
       "  </tbody>\n",
       "</table>\n",
       "</div>"
      ],
      "text/plain": [
       "   country  quantity\n",
       "0  Austria       5.0\n",
       "1  Austria      17.0\n",
       "2  Belgium       0.0\n",
       "3  Belgium       0.0\n",
       "4  Belgium      35.0"
      ]
     },
     "execution_count": 31,
     "metadata": {},
     "output_type": "execute_result"
    }
   ],
   "source": [
    "# выбрать несколько столбцов\n",
    "\n",
    "country_stats = data.filter(items = ['country', 'quantity'])\n",
    "country_stats.head()"
   ]
  },
  {
   "cell_type": "code",
   "execution_count": 32,
   "metadata": {},
   "outputs": [
    {
     "data": {
      "text/html": [
       "<div>\n",
       "<style scoped>\n",
       "    .dataframe tbody tr th:only-of-type {\n",
       "        vertical-align: middle;\n",
       "    }\n",
       "\n",
       "    .dataframe tbody tr th {\n",
       "        vertical-align: top;\n",
       "    }\n",
       "\n",
       "    .dataframe thead th {\n",
       "        text-align: right;\n",
       "    }\n",
       "</style>\n",
       "<table border=\"1\" class=\"dataframe\">\n",
       "  <thead>\n",
       "    <tr style=\"text-align: right;\">\n",
       "      <th></th>\n",
       "      <th>country</th>\n",
       "      <th>quantity</th>\n",
       "    </tr>\n",
       "  </thead>\n",
       "  <tbody>\n",
       "    <tr>\n",
       "      <th>0</th>\n",
       "      <td>Austria</td>\n",
       "      <td>5.0</td>\n",
       "    </tr>\n",
       "    <tr>\n",
       "      <th>1</th>\n",
       "      <td>Austria</td>\n",
       "      <td>17.0</td>\n",
       "    </tr>\n",
       "    <tr>\n",
       "      <th>2</th>\n",
       "      <td>Belgium</td>\n",
       "      <td>0.0</td>\n",
       "    </tr>\n",
       "    <tr>\n",
       "      <th>3</th>\n",
       "      <td>Belgium</td>\n",
       "      <td>0.0</td>\n",
       "    </tr>\n",
       "    <tr>\n",
       "      <th>4</th>\n",
       "      <td>Belgium</td>\n",
       "      <td>35.0</td>\n",
       "    </tr>\n",
       "  </tbody>\n",
       "</table>\n",
       "</div>"
      ],
      "text/plain": [
       "   country  quantity\n",
       "0  Austria       5.0\n",
       "1  Austria      17.0\n",
       "2  Belgium       0.0\n",
       "3  Belgium       0.0\n",
       "4  Belgium      35.0"
      ]
     },
     "execution_count": 32,
     "metadata": {},
     "output_type": "execute_result"
    }
   ],
   "source": [
    "# или так\n",
    "\n",
    "data[['country', 'quantity']].head()"
   ]
  },
  {
   "cell_type": "markdown",
   "metadata": {},
   "source": [
    "### Отфильтруем строки с потреблением выше среднего"
   ]
  },
  {
   "cell_type": "code",
   "execution_count": 33,
   "metadata": {},
   "outputs": [
    {
     "data": {
      "text/plain": [
       "184264.77005012965"
      ]
     },
     "execution_count": 33,
     "metadata": {},
     "output_type": "execute_result"
    }
   ],
   "source": [
    "average_level = data['quantity'].mean()\n",
    "average_level"
   ]
  },
  {
   "cell_type": "code",
   "execution_count": 34,
   "metadata": {},
   "outputs": [
    {
     "data": {
      "text/plain": [
       "'quantity > 184264.77005012965'"
      ]
     },
     "execution_count": 34,
     "metadata": {},
     "output_type": "execute_result"
    }
   ],
   "source": [
    "'quantity > {}'.format(average_level)"
   ]
  },
  {
   "cell_type": "code",
   "execution_count": 35,
   "metadata": {
    "scrolled": true
   },
   "outputs": [
    {
     "data": {
      "text/html": [
       "<div>\n",
       "<style scoped>\n",
       "    .dataframe tbody tr th:only-of-type {\n",
       "        vertical-align: middle;\n",
       "    }\n",
       "\n",
       "    .dataframe tbody tr th {\n",
       "        vertical-align: top;\n",
       "    }\n",
       "\n",
       "    .dataframe thead th {\n",
       "        text-align: right;\n",
       "    }\n",
       "</style>\n",
       "<table border=\"1\" class=\"dataframe\">\n",
       "  <thead>\n",
       "    <tr style=\"text-align: right;\">\n",
       "      <th></th>\n",
       "      <th>country</th>\n",
       "      <th>quantity</th>\n",
       "    </tr>\n",
       "  </thead>\n",
       "  <tbody>\n",
       "    <tr>\n",
       "      <th>3228</th>\n",
       "      <td>United States</td>\n",
       "      <td>367987.0</td>\n",
       "    </tr>\n",
       "    <tr>\n",
       "      <th>3229</th>\n",
       "      <td>United States</td>\n",
       "      <td>384439.0</td>\n",
       "    </tr>\n",
       "    <tr>\n",
       "      <th>3230</th>\n",
       "      <td>United States</td>\n",
       "      <td>370625.0</td>\n",
       "    </tr>\n",
       "    <tr>\n",
       "      <th>3231</th>\n",
       "      <td>United States</td>\n",
       "      <td>310909.0</td>\n",
       "    </tr>\n",
       "    <tr>\n",
       "      <th>3232</th>\n",
       "      <td>United States</td>\n",
       "      <td>335418.0</td>\n",
       "    </tr>\n",
       "  </tbody>\n",
       "</table>\n",
       "</div>"
      ],
      "text/plain": [
       "            country  quantity\n",
       "3228  United States  367987.0\n",
       "3229  United States  384439.0\n",
       "3230  United States  370625.0\n",
       "3231  United States  310909.0\n",
       "3232  United States  335418.0"
      ]
     },
     "execution_count": 35,
     "metadata": {},
     "output_type": "execute_result"
    }
   ],
   "source": [
    "# строки с потреблением больше среднего\n",
    "\n",
    "average_level = data['quantity'].mean()\n",
    "country_stats.query('quantity > {}'.format(average_level)).head()"
   ]
  },
  {
   "cell_type": "code",
   "execution_count": 36,
   "metadata": {
    "scrolled": true
   },
   "outputs": [
    {
     "data": {
      "text/html": [
       "<div>\n",
       "<style scoped>\n",
       "    .dataframe tbody tr th:only-of-type {\n",
       "        vertical-align: middle;\n",
       "    }\n",
       "\n",
       "    .dataframe tbody tr th {\n",
       "        vertical-align: top;\n",
       "    }\n",
       "\n",
       "    .dataframe thead th {\n",
       "        text-align: right;\n",
       "    }\n",
       "</style>\n",
       "<table border=\"1\" class=\"dataframe\">\n",
       "  <thead>\n",
       "    <tr style=\"text-align: right;\">\n",
       "      <th></th>\n",
       "      <th>country</th>\n",
       "      <th>year</th>\n",
       "      <th>quantity</th>\n",
       "      <th>category</th>\n",
       "    </tr>\n",
       "  </thead>\n",
       "  <tbody>\n",
       "    <tr>\n",
       "      <th>3228</th>\n",
       "      <td>United States</td>\n",
       "      <td>2014</td>\n",
       "      <td>367987.0</td>\n",
       "      <td>2</td>\n",
       "    </tr>\n",
       "    <tr>\n",
       "      <th>3229</th>\n",
       "      <td>United States</td>\n",
       "      <td>2013</td>\n",
       "      <td>384439.0</td>\n",
       "      <td>2</td>\n",
       "    </tr>\n",
       "    <tr>\n",
       "      <th>3230</th>\n",
       "      <td>United States</td>\n",
       "      <td>2012</td>\n",
       "      <td>370625.0</td>\n",
       "      <td>2</td>\n",
       "    </tr>\n",
       "    <tr>\n",
       "      <th>3231</th>\n",
       "      <td>United States</td>\n",
       "      <td>2011</td>\n",
       "      <td>310909.0</td>\n",
       "      <td>2</td>\n",
       "    </tr>\n",
       "    <tr>\n",
       "      <th>3232</th>\n",
       "      <td>United States</td>\n",
       "      <td>2010</td>\n",
       "      <td>335418.0</td>\n",
       "      <td>2</td>\n",
       "    </tr>\n",
       "  </tbody>\n",
       "</table>\n",
       "</div>"
      ],
      "text/plain": [
       "            country  year  quantity  category\n",
       "3228  United States  2014  367987.0         2\n",
       "3229  United States  2013  384439.0         2\n",
       "3230  United States  2012  370625.0         2\n",
       "3231  United States  2011  310909.0         2\n",
       "3232  United States  2010  335418.0         2"
      ]
     },
     "execution_count": 36,
     "metadata": {},
     "output_type": "execute_result"
    }
   ],
   "source": [
    "# самый популярный способ\n",
    "\n",
    "data[ data.quantity > average_level ].head()"
   ]
  },
  {
   "cell_type": "markdown",
   "metadata": {},
   "source": [
    "### Как определить используемый вариант названия страны?"
   ]
  },
  {
   "cell_type": "code",
   "execution_count": 37,
   "metadata": {
    "scrolled": true
   },
   "outputs": [
    {
     "data": {
      "text/plain": [
       "array(['Austria', 'Belgium', 'Czechia', 'Finland', 'France', 'Greece',\n",
       "       'Hungary', 'Italy', 'Korea, Republic of', 'Netherlands', 'Romania',\n",
       "       'Serbia', 'Slovakia', 'Ukraine', 'United Kingdom', 'United States',\n",
       "       'Brunei Darussalam', 'Bulgaria', 'Canada', 'Chile', 'Croatia',\n",
       "       'Iran (Islamic Rep. of)', 'Jordan', 'Lithuania', 'Mexico', 'Oman',\n",
       "       'Other Asia', 'Poland', 'Portugal', 'Spain', 'Sweden',\n",
       "       'Switzerland', 'T.F.Yug.Rep. Macedonia', 'Turkey', 'Uzbekistan',\n",
       "       'Argentina', 'Colombia', 'Germany', 'Norway', 'Australia',\n",
       "       'China, Macao SAR', 'Japan', 'Denmark', 'Ireland', 'Philippines',\n",
       "       'Bangladesh', 'Eritrea', 'Ethiopia', 'Lesotho', 'Nepal', 'Niger',\n",
       "       'Pakistan', 'Serbia and Montenegro', 'Tunisia', 'Botswana',\n",
       "       'Georgia', 'Republic of Moldova', 'Peru', 'South Africa',\n",
       "       'Iceland', 'Latvia', 'Luxembourg', 'Cuba', 'Kyrgyzstan',\n",
       "       'Singapore', 'Thailand', 'United Arab Emirates', 'Uruguay',\n",
       "       'Armenia', 'Fiji', \"Korea, Dem.Ppl's.Rep.\", 'Russian Federation',\n",
       "       'Swaziland', 'Zimbabwe', 'Afghanistan', 'Antigua and Barbuda',\n",
       "       'Azerbaijan', 'Bahamas', 'Belize', 'Bolivia (Plur. State of)',\n",
       "       'Brazil', 'Burkina Faso', 'Cameroon', 'Cayman Islands',\n",
       "       'Central African Rep.', 'China', 'Comoros', 'Congo', 'Costa Rica',\n",
       "       \"Côte d'Ivoire\", 'Dem. Rep. of the Congo', 'Dominican Republic',\n",
       "       'Ecuador', 'Egypt', 'El Salvador', 'Estonia',\n",
       "       'Ethiopia, incl. Eritrea', 'Faeroe Islands', 'French Guiana',\n",
       "       'Germany, Fed. R. (former)', 'Greenland', 'Guatemala', 'Guinea',\n",
       "       'Guyana', 'Honduras', 'Indonesia', 'Israel', 'Jamaica', 'Jersey',\n",
       "       'Kazakhstan', 'Kenya', 'Kuwait', \"Lao People's Dem. Rep.\",\n",
       "       'Liberia', 'Libya', 'Malawi', 'Malaysia', 'Maldives', 'Mauritania',\n",
       "       'Mayotte', 'Morocco', 'Myanmar', 'Namibia', 'New Caledonia',\n",
       "       'New Zealand', 'Nicaragua', 'Niue', 'Panama', 'Papua New Guinea',\n",
       "       'Paraguay', 'Sao Tome and Principe', 'Senegal', 'Seychelles',\n",
       "       'Slovenia', 'Solomon Islands', 'Sri Lanka', 'Sudan (former)',\n",
       "       'Suriname', 'Togo', 'Tonga', 'Trinidad and Tobago',\n",
       "       'United Rep. of Tanzania', 'Venezuela (Bolivar. Rep.)',\n",
       "       'Yugoslavia, SFR (former)', 'Zambia', 'Algeria', 'Curaçao',\n",
       "       'Gabon', 'Malta', 'Neth. Antilles (former)', 'Sierra Leone',\n",
       "       'USSR (former)', 'Barbados', 'Benin', 'Chad', 'Djibouti',\n",
       "       'French Polynesia', 'Ghana', 'Grenada', 'Guadeloupe', 'Haiti',\n",
       "       'Iraq', 'Kiribati', 'Madagascar', 'Mali', 'Martinique',\n",
       "       'Pacific Islands (former)', 'Palau', 'St. Helena and Depend.',\n",
       "       'St. Vincent-Grenadines', 'Syrian Arab Republic', 'Uganda',\n",
       "       'Yemen', 'Yemen, Dem. (former)', 'Burundi', 'India', 'Mauritius',\n",
       "       'Mozambique', 'Nigeria', 'Réunion', 'Rwanda', 'Samoa', 'Somalia',\n",
       "       'St. Kitts-Nevis', 'Viet Nam', 'Belarus', 'Cyprus', 'Cabo Verde',\n",
       "       'Albania', 'Bahrain', 'Bosnia and Herzegovina',\n",
       "       'China, Hong Kong SAR', 'Czechoslovakia (former)', 'Angola',\n",
       "       'Bermuda', 'Bhutan', 'Equatorial Guinea', 'Lebanon',\n",
       "       'Saudi Arabia', 'St. Lucia', 'St. Pierre-Miquelon',\n",
       "       'State of Palestine', 'Tajikistan', 'German Dem. R. (former)',\n",
       "       'Anguilla', 'Mongolia', 'Montenegro', 'Cambodia', 'South Sudan',\n",
       "       'Sudan', 'Andorra', 'Aruba', 'Bonaire, St Eustatius, Saba',\n",
       "       'British Virgin Islands', 'Dominica', 'Falkland Is. (Malvinas)',\n",
       "       'Gambia', 'Gibraltar', 'Qatar', 'Sint Maarten (Dutch part)',\n",
       "       'Turkmenistan', 'Turks and Caicos Islands', 'Vanuatu',\n",
       "       'Guinea-Bissau', 'Micronesia (Fed. States of)', 'Timor-Leste',\n",
       "       'Yemen Arab Rep. (former)', 'American Samoa', 'Liechtenstein',\n",
       "       'Puerto Rico', 'Cook Islands', 'Guam', 'Guernsey', 'Isle of Man',\n",
       "       'Marshall Islands', 'Montserrat', 'Nauru',\n",
       "       'Northern Mariana Islands', 'Tuvalu', 'United States Virgin Is.',\n",
       "       'Wallis and Futuna Is.',\n",
       "       'Commonwealth of Independent States (CIS)', 'Antarctic Fisheries'],\n",
       "      dtype=object)"
      ]
     },
     "execution_count": 37,
     "metadata": {},
     "output_type": "execute_result"
    }
   ],
   "source": [
    "data['country'].unique()"
   ]
  },
  {
   "cell_type": "code",
   "execution_count": 38,
   "metadata": {},
   "outputs": [
    {
     "data": {
      "text/plain": [
       "array(['Russian Federation'], dtype=object)"
      ]
     },
     "execution_count": 38,
     "metadata": {},
     "output_type": "execute_result"
    }
   ],
   "source": [
    "# найдем как называется Россия и Беларусь в этом датафрейме\n",
    "# фильтр на подстроку - смотрим все страны, содержащие в названии 'us'\n",
    "\n",
    "data[ data['country'].str.contains('Rus', case=True) ]['country'].unique()"
   ]
  },
  {
   "cell_type": "code",
   "execution_count": 39,
   "metadata": {},
   "outputs": [
    {
     "data": {
      "text/html": [
       "<div>\n",
       "<style scoped>\n",
       "    .dataframe tbody tr th:only-of-type {\n",
       "        vertical-align: middle;\n",
       "    }\n",
       "\n",
       "    .dataframe tbody tr th {\n",
       "        vertical-align: top;\n",
       "    }\n",
       "\n",
       "    .dataframe thead th {\n",
       "        text-align: right;\n",
       "    }\n",
       "</style>\n",
       "<table border=\"1\" class=\"dataframe\">\n",
       "  <thead>\n",
       "    <tr style=\"text-align: right;\">\n",
       "      <th></th>\n",
       "      <th>country</th>\n",
       "      <th>year</th>\n",
       "      <th>quantity</th>\n",
       "      <th>category</th>\n",
       "    </tr>\n",
       "  </thead>\n",
       "  <tbody>\n",
       "    <tr>\n",
       "      <th>6940</th>\n",
       "      <td>Russian Federation</td>\n",
       "      <td>2014</td>\n",
       "      <td>12714.0</td>\n",
       "      <td>3</td>\n",
       "    </tr>\n",
       "    <tr>\n",
       "      <th>6941</th>\n",
       "      <td>Russian Federation</td>\n",
       "      <td>2013</td>\n",
       "      <td>11285.0</td>\n",
       "      <td>3</td>\n",
       "    </tr>\n",
       "    <tr>\n",
       "      <th>6942</th>\n",
       "      <td>Russian Federation</td>\n",
       "      <td>2012</td>\n",
       "      <td>11302.0</td>\n",
       "      <td>3</td>\n",
       "    </tr>\n",
       "    <tr>\n",
       "      <th>6943</th>\n",
       "      <td>Russian Federation</td>\n",
       "      <td>2011</td>\n",
       "      <td>7611.0</td>\n",
       "      <td>3</td>\n",
       "    </tr>\n",
       "    <tr>\n",
       "      <th>6944</th>\n",
       "      <td>Russian Federation</td>\n",
       "      <td>2010</td>\n",
       "      <td>9263.0</td>\n",
       "      <td>3</td>\n",
       "    </tr>\n",
       "  </tbody>\n",
       "</table>\n",
       "</div>"
      ],
      "text/plain": [
       "                 country  year  quantity  category\n",
       "6940  Russian Federation  2014   12714.0         3\n",
       "6941  Russian Federation  2013   11285.0         3\n",
       "6942  Russian Federation  2012   11302.0         3\n",
       "6943  Russian Federation  2011    7611.0         3\n",
       "6944  Russian Federation  2010    9263.0         3"
      ]
     },
     "execution_count": 39,
     "metadata": {},
     "output_type": "execute_result"
    }
   ],
   "source": [
    "# фильтр на несколько условий сразу\n",
    "# | - условие ИЛИ\n",
    "# & AND\n",
    "# () | (() | () & ())\n",
    "filtered_countries = data[ (data['country']=='Russian Federation') | (data['country']=='Belarus') ]\n",
    "\n",
    "filtered_countries.head()"
   ]
  },
  {
   "cell_type": "code",
   "execution_count": 40,
   "metadata": {},
   "outputs": [
    {
     "data": {
      "text/plain": [
       "array(['Russian Federation', 'Belarus'], dtype=object)"
      ]
     },
     "execution_count": 40,
     "metadata": {},
     "output_type": "execute_result"
    }
   ],
   "source": [
    "filtered_countries['country'].unique()"
   ]
  },
  {
   "cell_type": "code",
   "execution_count": 41,
   "metadata": {},
   "outputs": [
    {
     "data": {
      "text/html": [
       "<div>\n",
       "<style scoped>\n",
       "    .dataframe tbody tr th:only-of-type {\n",
       "        vertical-align: middle;\n",
       "    }\n",
       "\n",
       "    .dataframe tbody tr th {\n",
       "        vertical-align: top;\n",
       "    }\n",
       "\n",
       "    .dataframe thead th {\n",
       "        text-align: right;\n",
       "    }\n",
       "</style>\n",
       "<table border=\"1\" class=\"dataframe\">\n",
       "  <thead>\n",
       "    <tr style=\"text-align: right;\">\n",
       "      <th></th>\n",
       "      <th>country</th>\n",
       "      <th>year</th>\n",
       "      <th>quantity</th>\n",
       "      <th>category</th>\n",
       "    </tr>\n",
       "  </thead>\n",
       "  <tbody>\n",
       "    <tr>\n",
       "      <th>1000</th>\n",
       "      <td>Austria</td>\n",
       "      <td>1998</td>\n",
       "      <td>-14.0</td>\n",
       "      <td>1</td>\n",
       "    </tr>\n",
       "    <tr>\n",
       "      <th>1001</th>\n",
       "      <td>Austria</td>\n",
       "      <td>1997</td>\n",
       "      <td>5.0</td>\n",
       "      <td>1</td>\n",
       "    </tr>\n",
       "    <tr>\n",
       "      <th>1002</th>\n",
       "      <td>Austria</td>\n",
       "      <td>1996</td>\n",
       "      <td>-1.0</td>\n",
       "      <td>1</td>\n",
       "    </tr>\n",
       "    <tr>\n",
       "      <th>1003</th>\n",
       "      <td>Austria</td>\n",
       "      <td>1995</td>\n",
       "      <td>-10.0</td>\n",
       "      <td>1</td>\n",
       "    </tr>\n",
       "    <tr>\n",
       "      <th>1004</th>\n",
       "      <td>Austria</td>\n",
       "      <td>1994</td>\n",
       "      <td>-8.0</td>\n",
       "      <td>1</td>\n",
       "    </tr>\n",
       "    <tr>\n",
       "      <th>1005</th>\n",
       "      <td>Austria</td>\n",
       "      <td>1993</td>\n",
       "      <td>-11.0</td>\n",
       "      <td>1</td>\n",
       "    </tr>\n",
       "  </tbody>\n",
       "</table>\n",
       "</div>"
      ],
      "text/plain": [
       "      country  year  quantity  category\n",
       "1000  Austria  1998     -14.0         1\n",
       "1001  Austria  1997       5.0         1\n",
       "1002  Austria  1996      -1.0         1\n",
       "1003  Austria  1995     -10.0         1\n",
       "1004  Austria  1994      -8.0         1\n",
       "1005  Austria  1993     -11.0         1"
      ]
     },
     "execution_count": 41,
     "metadata": {},
     "output_type": "execute_result"
    }
   ],
   "source": [
    "# фильтры на номер строки\n",
    "\n",
    "data.loc[1000:1005]"
   ]
  },
  {
   "cell_type": "markdown",
   "metadata": {},
   "source": [
    "# Сортировка"
   ]
  },
  {
   "cell_type": "code",
   "execution_count": 42,
   "metadata": {},
   "outputs": [
    {
     "data": {
      "text/html": [
       "<div>\n",
       "<style scoped>\n",
       "    .dataframe tbody tr th:only-of-type {\n",
       "        vertical-align: middle;\n",
       "    }\n",
       "\n",
       "    .dataframe tbody tr th {\n",
       "        vertical-align: top;\n",
       "    }\n",
       "\n",
       "    .dataframe thead th {\n",
       "        text-align: right;\n",
       "    }\n",
       "</style>\n",
       "<table border=\"1\" class=\"dataframe\">\n",
       "  <thead>\n",
       "    <tr style=\"text-align: right;\">\n",
       "      <th></th>\n",
       "      <th>country</th>\n",
       "      <th>year</th>\n",
       "      <th>quantity</th>\n",
       "      <th>category</th>\n",
       "    </tr>\n",
       "  </thead>\n",
       "  <tbody>\n",
       "    <tr>\n",
       "      <th>832375</th>\n",
       "      <td>United States</td>\n",
       "      <td>2000</td>\n",
       "      <td>-864348.0</td>\n",
       "      <td>42</td>\n",
       "    </tr>\n",
       "    <tr>\n",
       "      <th>832373</th>\n",
       "      <td>United States</td>\n",
       "      <td>2002</td>\n",
       "      <td>-562414.0</td>\n",
       "      <td>42</td>\n",
       "    </tr>\n",
       "    <tr>\n",
       "      <th>832362</th>\n",
       "      <td>United States</td>\n",
       "      <td>2013</td>\n",
       "      <td>-551490.0</td>\n",
       "      <td>42</td>\n",
       "    </tr>\n",
       "    <tr>\n",
       "      <th>832380</th>\n",
       "      <td>United States</td>\n",
       "      <td>1995</td>\n",
       "      <td>-493380.0</td>\n",
       "      <td>42</td>\n",
       "    </tr>\n",
       "    <tr>\n",
       "      <th>832322</th>\n",
       "      <td>Ukraine</td>\n",
       "      <td>2010</td>\n",
       "      <td>-477263.0</td>\n",
       "      <td>42</td>\n",
       "    </tr>\n",
       "  </tbody>\n",
       "</table>\n",
       "</div>"
      ],
      "text/plain": [
       "              country  year  quantity  category\n",
       "832375  United States  2000 -864348.0        42\n",
       "832373  United States  2002 -562414.0        42\n",
       "832362  United States  2013 -551490.0        42\n",
       "832380  United States  1995 -493380.0        42\n",
       "832322        Ukraine  2010 -477263.0        42"
      ]
     },
     "execution_count": 42,
     "metadata": {},
     "output_type": "execute_result"
    }
   ],
   "source": [
    "# Сортировка по столбцу\n",
    "\n",
    "data.sort_values(by='quantity').head()"
   ]
  },
  {
   "cell_type": "code",
   "execution_count": 43,
   "metadata": {},
   "outputs": [
    {
     "data": {
      "text/html": [
       "<div>\n",
       "<style scoped>\n",
       "    .dataframe tbody tr th:only-of-type {\n",
       "        vertical-align: middle;\n",
       "    }\n",
       "\n",
       "    .dataframe tbody tr th {\n",
       "        vertical-align: top;\n",
       "    }\n",
       "\n",
       "    .dataframe thead th {\n",
       "        text-align: right;\n",
       "    }\n",
       "</style>\n",
       "<table border=\"1\" class=\"dataframe\">\n",
       "  <thead>\n",
       "    <tr style=\"text-align: right;\">\n",
       "      <th></th>\n",
       "      <th>country</th>\n",
       "      <th>year</th>\n",
       "      <th>quantity</th>\n",
       "      <th>category</th>\n",
       "    </tr>\n",
       "  </thead>\n",
       "  <tbody>\n",
       "    <tr>\n",
       "      <th>492581</th>\n",
       "      <td>United States</td>\n",
       "      <td>2014</td>\n",
       "      <td>6.680329e+09</td>\n",
       "      <td>31</td>\n",
       "    </tr>\n",
       "    <tr>\n",
       "      <th>492267</th>\n",
       "      <td>United States</td>\n",
       "      <td>2014</td>\n",
       "      <td>6.680329e+09</td>\n",
       "      <td>31</td>\n",
       "    </tr>\n",
       "    <tr>\n",
       "      <th>492047</th>\n",
       "      <td>China</td>\n",
       "      <td>2014</td>\n",
       "      <td>5.462672e+09</td>\n",
       "      <td>31</td>\n",
       "    </tr>\n",
       "    <tr>\n",
       "      <th>492345</th>\n",
       "      <td>China</td>\n",
       "      <td>2014</td>\n",
       "      <td>5.462672e+09</td>\n",
       "      <td>31</td>\n",
       "    </tr>\n",
       "    <tr>\n",
       "      <th>122392</th>\n",
       "      <td>USSR (former)</td>\n",
       "      <td>1990</td>\n",
       "      <td>3.257000e+09</td>\n",
       "      <td>12</td>\n",
       "    </tr>\n",
       "  </tbody>\n",
       "</table>\n",
       "</div>"
      ],
      "text/plain": [
       "              country  year      quantity  category\n",
       "492581  United States  2014  6.680329e+09        31\n",
       "492267  United States  2014  6.680329e+09        31\n",
       "492047          China  2014  5.462672e+09        31\n",
       "492345          China  2014  5.462672e+09        31\n",
       "122392  USSR (former)  1990  3.257000e+09        12"
      ]
     },
     "execution_count": 43,
     "metadata": {},
     "output_type": "execute_result"
    }
   ],
   "source": [
    "# сортировка по убыванию\n",
    "\n",
    "data.sort_values('quantity', ascending=False).head()"
   ]
  },
  {
   "cell_type": "code",
   "execution_count": 44,
   "metadata": {},
   "outputs": [
    {
     "data": {
      "text/html": [
       "<div>\n",
       "<style scoped>\n",
       "    .dataframe tbody tr th:only-of-type {\n",
       "        vertical-align: middle;\n",
       "    }\n",
       "\n",
       "    .dataframe tbody tr th {\n",
       "        vertical-align: top;\n",
       "    }\n",
       "\n",
       "    .dataframe thead th {\n",
       "        text-align: right;\n",
       "    }\n",
       "</style>\n",
       "<table border=\"1\" class=\"dataframe\">\n",
       "  <thead>\n",
       "    <tr style=\"text-align: right;\">\n",
       "      <th></th>\n",
       "      <th>country</th>\n",
       "      <th>year</th>\n",
       "      <th>quantity</th>\n",
       "      <th>category</th>\n",
       "    </tr>\n",
       "  </thead>\n",
       "  <tbody>\n",
       "    <tr>\n",
       "      <th>835127</th>\n",
       "      <td>Afghanistan</td>\n",
       "      <td>2014</td>\n",
       "      <td>1.935442e+06</td>\n",
       "      <td>42</td>\n",
       "    </tr>\n",
       "    <tr>\n",
       "      <th>491541</th>\n",
       "      <td>Afghanistan</td>\n",
       "      <td>2014</td>\n",
       "      <td>6.600000e+04</td>\n",
       "      <td>31</td>\n",
       "    </tr>\n",
       "    <tr>\n",
       "      <th>492004</th>\n",
       "      <td>Afghanistan</td>\n",
       "      <td>2014</td>\n",
       "      <td>6.600000e+04</td>\n",
       "      <td>31</td>\n",
       "    </tr>\n",
       "    <tr>\n",
       "      <th>492292</th>\n",
       "      <td>Afghanistan</td>\n",
       "      <td>2014</td>\n",
       "      <td>6.600000e+04</td>\n",
       "      <td>31</td>\n",
       "    </tr>\n",
       "    <tr>\n",
       "      <th>791301</th>\n",
       "      <td>Afghanistan</td>\n",
       "      <td>2014</td>\n",
       "      <td>5.537080e+03</td>\n",
       "      <td>42</td>\n",
       "    </tr>\n",
       "  </tbody>\n",
       "</table>\n",
       "</div>"
      ],
      "text/plain": [
       "            country  year      quantity  category\n",
       "835127  Afghanistan  2014  1.935442e+06        42\n",
       "491541  Afghanistan  2014  6.600000e+04        31\n",
       "492004  Afghanistan  2014  6.600000e+04        31\n",
       "492292  Afghanistan  2014  6.600000e+04        31\n",
       "791301  Afghanistan  2014  5.537080e+03        42"
      ]
     },
     "execution_count": 44,
     "metadata": {},
     "output_type": "execute_result"
    }
   ],
   "source": [
    "# сортировка по нескольким столбцам\n",
    "\n",
    "data.sort_values(by=['year', 'country', 'quantity'], ascending=[False, True, False]).head()"
   ]
  },
  {
   "cell_type": "markdown",
   "metadata": {},
   "source": [
    "### Параметр inplace"
   ]
  },
  {
   "cell_type": "code",
   "execution_count": 45,
   "metadata": {},
   "outputs": [
    {
     "data": {
      "text/html": [
       "<div>\n",
       "<style scoped>\n",
       "    .dataframe tbody tr th:only-of-type {\n",
       "        vertical-align: middle;\n",
       "    }\n",
       "\n",
       "    .dataframe tbody tr th {\n",
       "        vertical-align: top;\n",
       "    }\n",
       "\n",
       "    .dataframe thead th {\n",
       "        text-align: right;\n",
       "    }\n",
       "</style>\n",
       "<table border=\"1\" class=\"dataframe\">\n",
       "  <thead>\n",
       "    <tr style=\"text-align: right;\">\n",
       "      <th></th>\n",
       "      <th>country</th>\n",
       "      <th>year</th>\n",
       "      <th>quantity</th>\n",
       "      <th>category</th>\n",
       "    </tr>\n",
       "  </thead>\n",
       "  <tbody>\n",
       "    <tr>\n",
       "      <th>0</th>\n",
       "      <td>Austria</td>\n",
       "      <td>1996</td>\n",
       "      <td>5.0</td>\n",
       "      <td>1</td>\n",
       "    </tr>\n",
       "    <tr>\n",
       "      <th>1</th>\n",
       "      <td>Austria</td>\n",
       "      <td>1995</td>\n",
       "      <td>17.0</td>\n",
       "      <td>1</td>\n",
       "    </tr>\n",
       "    <tr>\n",
       "      <th>2</th>\n",
       "      <td>Belgium</td>\n",
       "      <td>2014</td>\n",
       "      <td>0.0</td>\n",
       "      <td>1</td>\n",
       "    </tr>\n",
       "    <tr>\n",
       "      <th>3</th>\n",
       "      <td>Belgium</td>\n",
       "      <td>2013</td>\n",
       "      <td>0.0</td>\n",
       "      <td>1</td>\n",
       "    </tr>\n",
       "    <tr>\n",
       "      <th>4</th>\n",
       "      <td>Belgium</td>\n",
       "      <td>2012</td>\n",
       "      <td>35.0</td>\n",
       "      <td>1</td>\n",
       "    </tr>\n",
       "  </tbody>\n",
       "</table>\n",
       "</div>"
      ],
      "text/plain": [
       "   country  year  quantity  category\n",
       "0  Austria  1996       5.0         1\n",
       "1  Austria  1995      17.0         1\n",
       "2  Belgium  2014       0.0         1\n",
       "3  Belgium  2013       0.0         1\n",
       "4  Belgium  2012      35.0         1"
      ]
     },
     "execution_count": 45,
     "metadata": {},
     "output_type": "execute_result"
    }
   ],
   "source": [
    "data.head()"
   ]
  },
  {
   "cell_type": "code",
   "execution_count": 46,
   "metadata": {},
   "outputs": [
    {
     "data": {
      "text/html": [
       "<div>\n",
       "<style scoped>\n",
       "    .dataframe tbody tr th:only-of-type {\n",
       "        vertical-align: middle;\n",
       "    }\n",
       "\n",
       "    .dataframe tbody tr th {\n",
       "        vertical-align: top;\n",
       "    }\n",
       "\n",
       "    .dataframe thead th {\n",
       "        text-align: right;\n",
       "    }\n",
       "</style>\n",
       "<table border=\"1\" class=\"dataframe\">\n",
       "  <thead>\n",
       "    <tr style=\"text-align: right;\">\n",
       "      <th></th>\n",
       "      <th>country</th>\n",
       "      <th>year</th>\n",
       "      <th>quantity</th>\n",
       "      <th>category</th>\n",
       "    </tr>\n",
       "  </thead>\n",
       "  <tbody>\n",
       "    <tr>\n",
       "      <th>832375</th>\n",
       "      <td>United States</td>\n",
       "      <td>2000</td>\n",
       "      <td>-864348.0</td>\n",
       "      <td>42</td>\n",
       "    </tr>\n",
       "    <tr>\n",
       "      <th>832373</th>\n",
       "      <td>United States</td>\n",
       "      <td>2002</td>\n",
       "      <td>-562414.0</td>\n",
       "      <td>42</td>\n",
       "    </tr>\n",
       "    <tr>\n",
       "      <th>832362</th>\n",
       "      <td>United States</td>\n",
       "      <td>2013</td>\n",
       "      <td>-551490.0</td>\n",
       "      <td>42</td>\n",
       "    </tr>\n",
       "    <tr>\n",
       "      <th>832380</th>\n",
       "      <td>United States</td>\n",
       "      <td>1995</td>\n",
       "      <td>-493380.0</td>\n",
       "      <td>42</td>\n",
       "    </tr>\n",
       "    <tr>\n",
       "      <th>832322</th>\n",
       "      <td>Ukraine</td>\n",
       "      <td>2010</td>\n",
       "      <td>-477263.0</td>\n",
       "      <td>42</td>\n",
       "    </tr>\n",
       "  </tbody>\n",
       "</table>\n",
       "</div>"
      ],
      "text/plain": [
       "              country  year  quantity  category\n",
       "832375  United States  2000 -864348.0        42\n",
       "832373  United States  2002 -562414.0        42\n",
       "832362  United States  2013 -551490.0        42\n",
       "832380  United States  1995 -493380.0        42\n",
       "832322        Ukraine  2010 -477263.0        42"
      ]
     },
     "execution_count": 46,
     "metadata": {},
     "output_type": "execute_result"
    }
   ],
   "source": [
    "data.sort_values('quantity', ascending=True, inplace=True)\n",
    "data.head()"
   ]
  },
  {
   "cell_type": "code",
   "execution_count": 47,
   "metadata": {},
   "outputs": [
    {
     "data": {
      "text/html": [
       "<div>\n",
       "<style scoped>\n",
       "    .dataframe tbody tr th:only-of-type {\n",
       "        vertical-align: middle;\n",
       "    }\n",
       "\n",
       "    .dataframe tbody tr th {\n",
       "        vertical-align: top;\n",
       "    }\n",
       "\n",
       "    .dataframe thead th {\n",
       "        text-align: right;\n",
       "    }\n",
       "</style>\n",
       "<table border=\"1\" class=\"dataframe\">\n",
       "  <thead>\n",
       "    <tr style=\"text-align: right;\">\n",
       "      <th></th>\n",
       "      <th>country</th>\n",
       "      <th>year</th>\n",
       "      <th>quantity</th>\n",
       "      <th>category</th>\n",
       "    </tr>\n",
       "  </thead>\n",
       "  <tbody>\n",
       "    <tr>\n",
       "      <th>835137</th>\n",
       "      <td>Afghanistan</td>\n",
       "      <td>1990</td>\n",
       "      <td>3902100.0</td>\n",
       "      <td>42</td>\n",
       "    </tr>\n",
       "    <tr>\n",
       "      <th>492297</th>\n",
       "      <td>Afghanistan</td>\n",
       "      <td>1990</td>\n",
       "      <td>512000.0</td>\n",
       "      <td>31</td>\n",
       "    </tr>\n",
       "    <tr>\n",
       "      <th>491412</th>\n",
       "      <td>Afghanistan</td>\n",
       "      <td>1990</td>\n",
       "      <td>400000.0</td>\n",
       "      <td>31</td>\n",
       "    </tr>\n",
       "    <tr>\n",
       "      <th>492006</th>\n",
       "      <td>Afghanistan</td>\n",
       "      <td>1990</td>\n",
       "      <td>112000.0</td>\n",
       "      <td>31</td>\n",
       "    </tr>\n",
       "    <tr>\n",
       "      <th>491548</th>\n",
       "      <td>Afghanistan</td>\n",
       "      <td>1990</td>\n",
       "      <td>66000.0</td>\n",
       "      <td>31</td>\n",
       "    </tr>\n",
       "  </tbody>\n",
       "</table>\n",
       "</div>"
      ],
      "text/plain": [
       "            country  year   quantity  category\n",
       "835137  Afghanistan  1990  3902100.0        42\n",
       "492297  Afghanistan  1990   512000.0        31\n",
       "491412  Afghanistan  1990   400000.0        31\n",
       "492006  Afghanistan  1990   112000.0        31\n",
       "491548  Afghanistan  1990    66000.0        31"
      ]
     },
     "execution_count": 47,
     "metadata": {},
     "output_type": "execute_result"
    }
   ],
   "source": [
    "#data = data.sort_values(by=['country', 'year', 'quantity'], ascending=[True, True, False])\n",
    "\n",
    "# чтобы сократить это выражение используем inplace:\n",
    "data.sort_values(by=['country', 'year', 'quantity'], ascending=[True, True, False], inplace=True)\n",
    "data.head()"
   ]
  },
  {
   "cell_type": "markdown",
   "metadata": {},
   "source": [
    "### Упражнение\n",
    "Используем transactions.csv.\n",
    "\n",
    "Для какой транзакции (столбец ID) были наибольшие расходы (столбец Cost) в категории \"_8\" (столбец Product)? "
   ]
  },
  {
   "cell_type": "code",
   "execution_count": 48,
   "metadata": {},
   "outputs": [],
   "source": [
    "sales = pd.read_csv('transactions.csv')\n",
    "#sales.head()"
   ]
  },
  {
   "cell_type": "code",
   "execution_count": 49,
   "metadata": {},
   "outputs": [
    {
     "data": {
      "text/html": [
       "<div>\n",
       "<style scoped>\n",
       "    .dataframe tbody tr th:only-of-type {\n",
       "        vertical-align: middle;\n",
       "    }\n",
       "\n",
       "    .dataframe tbody tr th {\n",
       "        vertical-align: top;\n",
       "    }\n",
       "\n",
       "    .dataframe thead th {\n",
       "        text-align: right;\n",
       "    }\n",
       "</style>\n",
       "<table border=\"1\" class=\"dataframe\">\n",
       "  <thead>\n",
       "    <tr style=\"text-align: right;\">\n",
       "      <th></th>\n",
       "      <th>Year</th>\n",
       "      <th>Month</th>\n",
       "      <th>ID</th>\n",
       "      <th>Product</th>\n",
       "      <th>Amount</th>\n",
       "      <th>Price</th>\n",
       "      <th>Total</th>\n",
       "      <th>Cost</th>\n",
       "    </tr>\n",
       "  </thead>\n",
       "  <tbody>\n",
       "    <tr>\n",
       "      <th>0</th>\n",
       "      <td>2017</td>\n",
       "      <td>1</td>\n",
       "      <td>t001</td>\n",
       "      <td>A1</td>\n",
       "      <td>7</td>\n",
       "      <td>2904</td>\n",
       "      <td>20328</td>\n",
       "      <td>1200</td>\n",
       "    </tr>\n",
       "    <tr>\n",
       "      <th>1</th>\n",
       "      <td>2017</td>\n",
       "      <td>1</td>\n",
       "      <td>t002</td>\n",
       "      <td>A2</td>\n",
       "      <td>2</td>\n",
       "      <td>1896</td>\n",
       "      <td>3792</td>\n",
       "      <td>1100</td>\n",
       "    </tr>\n",
       "    <tr>\n",
       "      <th>2</th>\n",
       "      <td>2017</td>\n",
       "      <td>2</td>\n",
       "      <td>t003</td>\n",
       "      <td>A1</td>\n",
       "      <td>5</td>\n",
       "      <td>2904</td>\n",
       "      <td>14520</td>\n",
       "      <td>1200</td>\n",
       "    </tr>\n",
       "    <tr>\n",
       "      <th>3</th>\n",
       "      <td>2017</td>\n",
       "      <td>2</td>\n",
       "      <td>t004</td>\n",
       "      <td>A4</td>\n",
       "      <td>1</td>\n",
       "      <td>8618</td>\n",
       "      <td>8618</td>\n",
       "      <td>4200</td>\n",
       "    </tr>\n",
       "    <tr>\n",
       "      <th>4</th>\n",
       "      <td>2017</td>\n",
       "      <td>2</td>\n",
       "      <td>t005</td>\n",
       "      <td>A5</td>\n",
       "      <td>3</td>\n",
       "      <td>5175</td>\n",
       "      <td>15525</td>\n",
       "      <td>500</td>\n",
       "    </tr>\n",
       "  </tbody>\n",
       "</table>\n",
       "</div>"
      ],
      "text/plain": [
       "   Year  Month    ID Product  Amount  Price  Total  Cost\n",
       "0  2017      1  t001      A1       7   2904  20328  1200\n",
       "1  2017      1  t002      A2       2   1896   3792  1100\n",
       "2  2017      2  t003      A1       5   2904  14520  1200\n",
       "3  2017      2  t004      A4       1   8618   8618  4200\n",
       "4  2017      2  t005      A5       3   5175  15525   500"
      ]
     },
     "execution_count": 49,
     "metadata": {},
     "output_type": "execute_result"
    }
   ],
   "source": [
    "sales.filter(items = ['Product', 'Cost'])\n",
    "sales.head()"
   ]
  },
  {
   "cell_type": "code",
   "execution_count": 50,
   "metadata": {},
   "outputs": [
    {
     "data": {
      "text/html": [
       "<div>\n",
       "<style scoped>\n",
       "    .dataframe tbody tr th:only-of-type {\n",
       "        vertical-align: middle;\n",
       "    }\n",
       "\n",
       "    .dataframe tbody tr th {\n",
       "        vertical-align: top;\n",
       "    }\n",
       "\n",
       "    .dataframe thead th {\n",
       "        text-align: right;\n",
       "    }\n",
       "</style>\n",
       "<table border=\"1\" class=\"dataframe\">\n",
       "  <thead>\n",
       "    <tr style=\"text-align: right;\">\n",
       "      <th></th>\n",
       "      <th>Year</th>\n",
       "      <th>Month</th>\n",
       "      <th>ID</th>\n",
       "      <th>Product</th>\n",
       "      <th>Amount</th>\n",
       "      <th>Price</th>\n",
       "      <th>Total</th>\n",
       "      <th>Cost</th>\n",
       "    </tr>\n",
       "  </thead>\n",
       "  <tbody>\n",
       "    <tr>\n",
       "      <th>54</th>\n",
       "      <td>2017</td>\n",
       "      <td>12</td>\n",
       "      <td>t055</td>\n",
       "      <td>_8</td>\n",
       "      <td>2</td>\n",
       "      <td>3760</td>\n",
       "      <td>7520</td>\n",
       "      <td>2400</td>\n",
       "    </tr>\n",
       "  </tbody>\n",
       "</table>\n",
       "</div>"
      ],
      "text/plain": [
       "    Year  Month    ID Product  Amount  Price  Total  Cost\n",
       "54  2017     12  t055      _8       2   3760   7520  2400"
      ]
     },
     "execution_count": 50,
     "metadata": {},
     "output_type": "execute_result"
    }
   ],
   "source": [
    "sales.sort_values(by=['Product', 'Cost'], ascending=[False, False], inplace=True)\n",
    "sales.head(1)\n",
    "#sales.loc[54]"
   ]
  },
  {
   "cell_type": "code",
   "execution_count": 51,
   "metadata": {},
   "outputs": [
    {
     "data": {
      "text/html": [
       "<div>\n",
       "<style scoped>\n",
       "    .dataframe tbody tr th:only-of-type {\n",
       "        vertical-align: middle;\n",
       "    }\n",
       "\n",
       "    .dataframe tbody tr th {\n",
       "        vertical-align: top;\n",
       "    }\n",
       "\n",
       "    .dataframe thead th {\n",
       "        text-align: right;\n",
       "    }\n",
       "</style>\n",
       "<table border=\"1\" class=\"dataframe\">\n",
       "  <thead>\n",
       "    <tr style=\"text-align: right;\">\n",
       "      <th></th>\n",
       "      <th>Year</th>\n",
       "      <th>Month</th>\n",
       "      <th>ID</th>\n",
       "      <th>Product</th>\n",
       "      <th>Amount</th>\n",
       "      <th>Price</th>\n",
       "      <th>Total</th>\n",
       "      <th>Cost</th>\n",
       "    </tr>\n",
       "  </thead>\n",
       "  <tbody>\n",
       "    <tr>\n",
       "      <th>54</th>\n",
       "      <td>2017</td>\n",
       "      <td>12</td>\n",
       "      <td>t055</td>\n",
       "      <td>_8</td>\n",
       "      <td>2</td>\n",
       "      <td>3760</td>\n",
       "      <td>7520</td>\n",
       "      <td>2400</td>\n",
       "    </tr>\n",
       "  </tbody>\n",
       "</table>\n",
       "</div>"
      ],
      "text/plain": [
       "    Year  Month    ID Product  Amount  Price  Total  Cost\n",
       "54  2017     12  t055      _8       2   3760   7520  2400"
      ]
     },
     "execution_count": 51,
     "metadata": {},
     "output_type": "execute_result"
    }
   ],
   "source": [
    "av_lev = sales['Cost'].mean()\n",
    "#av_lev\n",
    "sales[ sales.Cost > av_lev ].head(1)"
   ]
  },
  {
   "cell_type": "code",
   "execution_count": 52,
   "metadata": {},
   "outputs": [],
   "source": [
    "#sales[ ['Product', 'Cost'] ]"
   ]
  },
  {
   "cell_type": "code",
   "execution_count": 53,
   "metadata": {},
   "outputs": [],
   "source": [
    "import pandas as pd"
   ]
  },
  {
   "cell_type": "markdown",
   "metadata": {},
   "source": [
    "Домашнее задание\n",
    "\n",
    "Задание 1\n",
    "Скачайте с сайта https://grouplens.org/datasets/movielens/ датасет любого размера. Определите какому фильму было выставлено больше всего оценок 5.0.\n"
   ]
  },
  {
   "cell_type": "code",
   "execution_count": 147,
   "metadata": {},
   "outputs": [
    {
     "data": {
      "text/html": [
       "<div>\n",
       "<style scoped>\n",
       "    .dataframe tbody tr th:only-of-type {\n",
       "        vertical-align: middle;\n",
       "    }\n",
       "\n",
       "    .dataframe tbody tr th {\n",
       "        vertical-align: top;\n",
       "    }\n",
       "\n",
       "    .dataframe thead th {\n",
       "        text-align: right;\n",
       "    }\n",
       "</style>\n",
       "<table border=\"1\" class=\"dataframe\">\n",
       "  <thead>\n",
       "    <tr style=\"text-align: right;\">\n",
       "      <th></th>\n",
       "      <th>movieId</th>\n",
       "      <th>info</th>\n",
       "    </tr>\n",
       "  </thead>\n",
       "  <tbody>\n",
       "    <tr>\n",
       "      <th>174</th>\n",
       "      <td>318</td>\n",
       "      <td>[5.0, 5.0, 5.0, 5.0, 5.0, 5.0, 5.0, 5.0, 5.0, ...</td>\n",
       "    </tr>\n",
       "  </tbody>\n",
       "</table>\n",
       "</div>"
      ],
      "text/plain": [
       "     movieId                                               info\n",
       "174      318  [5.0, 5.0, 5.0, 5.0, 5.0, 5.0, 5.0, 5.0, 5.0, ..."
      ]
     },
     "execution_count": 147,
     "metadata": {},
     "output_type": "execute_result"
    }
   ],
   "source": [
    "movi = pd.read_csv('ratings.csv')\n",
    "movi_5 = movi[ (movi['rating']==int(5)) ]\n",
    "\n",
    "res = movi_5.groupby('movieId')['rating'].apply(list).reset_index(name='info')\n",
    "\n",
    "res.sort_values('info', ascending=False).head(1)\n",
    "\n"
   ]
  },
  {
   "cell_type": "code",
   "execution_count": 79,
   "metadata": {},
   "outputs": [
    {
     "data": {
      "text/plain": [
       "(100836,)"
      ]
     },
     "execution_count": 79,
     "metadata": {},
     "output_type": "execute_result"
    }
   ],
   "source": [
    "movi['rating'].shape"
   ]
  },
  {
   "cell_type": "code",
   "execution_count": null,
   "metadata": {},
   "outputs": [],
   "source": []
  },
  {
   "cell_type": "markdown",
   "metadata": {},
   "source": [
    "Задание 2\n",
    "По данным файла power.csv посчитайте суммарное потребление стран Прибалтики (Латвия, Литва и Эстония) категорий 4, 12 и 21 за период с 2005 по 2010 года. Не учитывайте в расчетах отрицательные значения quantity.\n"
   ]
  },
  {
   "cell_type": "code",
   "execution_count": 148,
   "metadata": {},
   "outputs": [
    {
     "data": {
      "text/html": [
       "<div>\n",
       "<style scoped>\n",
       "    .dataframe tbody tr th:only-of-type {\n",
       "        vertical-align: middle;\n",
       "    }\n",
       "\n",
       "    .dataframe tbody tr th {\n",
       "        vertical-align: top;\n",
       "    }\n",
       "\n",
       "    .dataframe thead th {\n",
       "        text-align: right;\n",
       "    }\n",
       "</style>\n",
       "<table border=\"1\" class=\"dataframe\">\n",
       "  <thead>\n",
       "    <tr style=\"text-align: right;\">\n",
       "      <th></th>\n",
       "      <th>country</th>\n",
       "      <th>year</th>\n",
       "      <th>quantity</th>\n",
       "      <th>category</th>\n",
       "    </tr>\n",
       "  </thead>\n",
       "  <tbody>\n",
       "    <tr>\n",
       "      <th>10617</th>\n",
       "      <td>Estonia</td>\n",
       "      <td>2008</td>\n",
       "      <td>1.0</td>\n",
       "      <td>4</td>\n",
       "    </tr>\n",
       "    <tr>\n",
       "      <th>10618</th>\n",
       "      <td>Estonia</td>\n",
       "      <td>2007</td>\n",
       "      <td>0.0</td>\n",
       "      <td>4</td>\n",
       "    </tr>\n",
       "    <tr>\n",
       "      <th>10619</th>\n",
       "      <td>Estonia</td>\n",
       "      <td>2006</td>\n",
       "      <td>0.0</td>\n",
       "      <td>4</td>\n",
       "    </tr>\n",
       "    <tr>\n",
       "      <th>10620</th>\n",
       "      <td>Estonia</td>\n",
       "      <td>2005</td>\n",
       "      <td>1.0</td>\n",
       "      <td>4</td>\n",
       "    </tr>\n",
       "    <tr>\n",
       "      <th>11156</th>\n",
       "      <td>Lithuania</td>\n",
       "      <td>2008</td>\n",
       "      <td>1.0</td>\n",
       "      <td>4</td>\n",
       "    </tr>\n",
       "  </tbody>\n",
       "</table>\n",
       "</div>"
      ],
      "text/plain": [
       "         country  year  quantity  category\n",
       "10617    Estonia  2008       1.0         4\n",
       "10618    Estonia  2007       0.0         4\n",
       "10619    Estonia  2006       0.0         4\n",
       "10620    Estonia  2005       1.0         4\n",
       "11156  Lithuania  2008       1.0         4"
      ]
     },
     "execution_count": 148,
     "metadata": {},
     "output_type": "execute_result"
    }
   ],
   "source": [
    "contry = pd.read_csv('power.csv')\n",
    "\n",
    "filtr_countr = contry[ ((contry['country']=='Latvia') | (contry['country']=='Lithuania')\\\n",
    "| (contry['country']=='Estonia')) & (( contry['year']<int(2010)) & ( contry['year']>=int(2005)) & (( contry['category']==int(4))\\\n",
    "| ( contry['category']==int(12)) | ( contry['category']==int(21)))) ]\n",
    "\n",
    "\n",
    "filtr_countr.sort_values(by=['year', 'quantity', 'category'], ascending=[True, False, False])#, inplace=False)\n",
    "filtr_countr.head()\n"
   ]
  },
  {
   "cell_type": "code",
   "execution_count": 58,
   "metadata": {},
   "outputs": [
    {
     "data": {
      "text/plain": [
       "201650.0"
      ]
     },
     "execution_count": 58,
     "metadata": {},
     "output_type": "execute_result"
    }
   ],
   "source": [
    "filtr_countr['quantity'].sum()"
   ]
  },
  {
   "cell_type": "code",
   "execution_count": 69,
   "metadata": {},
   "outputs": [
    {
     "data": {
      "text/plain": [
       "582.8034682080925"
      ]
     },
     "execution_count": 69,
     "metadata": {},
     "output_type": "execute_result"
    }
   ],
   "source": [
    "filtr_countr['quantity'].mean()"
   ]
  },
  {
   "cell_type": "code",
   "execution_count": 59,
   "metadata": {},
   "outputs": [
    {
     "data": {
      "text/plain": [
       "(346, 4)"
      ]
     },
     "execution_count": 59,
     "metadata": {},
     "output_type": "execute_result"
    }
   ],
   "source": [
    "#filtr_countr.info()\n",
    "filtr_countr.shape\n"
   ]
  },
  {
   "cell_type": "code",
   "execution_count": 71,
   "metadata": {},
   "outputs": [
    {
     "data": {
      "text/plain": [
       "346"
      ]
     },
     "execution_count": 71,
     "metadata": {},
     "output_type": "execute_result"
    }
   ],
   "source": [
    "len(filtr_countr['quantity'])"
   ]
  },
  {
   "cell_type": "markdown",
   "metadata": {},
   "source": [
    "Задание 3\n",
    "Выберите страницу любого сайта с табличными данными. Импортируйте таблицы в pandas dataframe.\n",
    "Примеры страниц (необязательно брать именно эти):\n",
    "https://fortrader.org/quotes\n",
    "https://www.finanz.ru/valyuty/v-realnom-vremeni"
   ]
  },
  {
   "cell_type": "code",
   "execution_count": 60,
   "metadata": {},
   "outputs": [],
   "source": [
    "page_ = 'https://www.finanz.ru/valyuty/v-realnom-vremeni'\n",
    "df = pd.read_html(page_, attrs = {'class': 'quote_list'}, encoding='utf-8')"
   ]
  },
  {
   "cell_type": "code",
   "execution_count": 61,
   "metadata": {},
   "outputs": [
    {
     "data": {
      "text/html": [
       "<div>\n",
       "<style scoped>\n",
       "    .dataframe tbody tr th:only-of-type {\n",
       "        vertical-align: middle;\n",
       "    }\n",
       "\n",
       "    .dataframe tbody tr th {\n",
       "        vertical-align: top;\n",
       "    }\n",
       "\n",
       "    .dataframe thead th {\n",
       "        text-align: right;\n",
       "    }\n",
       "</style>\n",
       "<table border=\"1\" class=\"dataframe\">\n",
       "  <thead>\n",
       "    <tr style=\"text-align: right;\">\n",
       "      <th></th>\n",
       "      <th>Unnamed: 0</th>\n",
       "      <th>Рубль</th>\n",
       "      <th>Предложение</th>\n",
       "      <th>Спрос</th>\n",
       "      <th>Предыдущее закрытие</th>\n",
       "      <th>%</th>\n",
       "      <th>Абсолютное значение</th>\n",
       "      <th>Время</th>\n",
       "    </tr>\n",
       "  </thead>\n",
       "  <tbody>\n",
       "    <tr>\n",
       "      <th>0</th>\n",
       "      <td>NaN</td>\n",
       "      <td>GBP/RUB</td>\n",
       "      <td>969292</td>\n",
       "      <td>-</td>\n",
       "      <td>965285</td>\n",
       "      <td>0,42 %</td>\n",
       "      <td>04006</td>\n",
       "      <td>21:57:00</td>\n",
       "    </tr>\n",
       "    <tr>\n",
       "      <th>1</th>\n",
       "      <td>NaN</td>\n",
       "      <td>EUR/RUB</td>\n",
       "      <td>873841</td>\n",
       "      <td>-</td>\n",
       "      <td>874640</td>\n",
       "      <td>-0,09 %</td>\n",
       "      <td>-00799</td>\n",
       "      <td>21:56:00</td>\n",
       "    </tr>\n",
       "    <tr>\n",
       "      <th>2</th>\n",
       "      <td>NaN</td>\n",
       "      <td>USD/RUB</td>\n",
       "      <td>732109</td>\n",
       "      <td>-</td>\n",
       "      <td>736634</td>\n",
       "      <td>-0,61 %</td>\n",
       "      <td>-04525</td>\n",
       "      <td>21:56:00</td>\n",
       "    </tr>\n",
       "    <tr>\n",
       "      <th>3</th>\n",
       "      <td>NaN</td>\n",
       "      <td>JPY/RUB</td>\n",
       "      <td>06944</td>\n",
       "      <td>-</td>\n",
       "      <td>06949</td>\n",
       "      <td>-0,07 %</td>\n",
       "      <td>-00005</td>\n",
       "      <td>21:57:00</td>\n",
       "    </tr>\n",
       "    <tr>\n",
       "      <th>4</th>\n",
       "      <td>NaN</td>\n",
       "      <td>CNY/RUB</td>\n",
       "      <td>105766</td>\n",
       "      <td>-</td>\n",
       "      <td>106252</td>\n",
       "      <td>-0,46 %</td>\n",
       "      <td>-00486</td>\n",
       "      <td>21:56:00</td>\n",
       "    </tr>\n",
       "    <tr>\n",
       "      <th>5</th>\n",
       "      <td>NaN</td>\n",
       "      <td>CHF/RUB</td>\n",
       "      <td>810811</td>\n",
       "      <td>-</td>\n",
       "      <td>812703</td>\n",
       "      <td>-0,23 %</td>\n",
       "      <td>-01892</td>\n",
       "      <td>21:56:00</td>\n",
       "    </tr>\n",
       "    <tr>\n",
       "      <th>6</th>\n",
       "      <td>NaN</td>\n",
       "      <td>Евро</td>\n",
       "      <td>Предложение</td>\n",
       "      <td>Спрос</td>\n",
       "      <td>Предыдущее закрытие</td>\n",
       "      <td>%</td>\n",
       "      <td>Абсолютное значение</td>\n",
       "      <td>Время</td>\n",
       "    </tr>\n",
       "    <tr>\n",
       "      <th>7</th>\n",
       "      <td>NaN</td>\n",
       "      <td>EUR/USD</td>\n",
       "      <td>11937</td>\n",
       "      <td>-</td>\n",
       "      <td>11874</td>\n",
       "      <td>0,53 %</td>\n",
       "      <td>00063</td>\n",
       "      <td>21:56:00</td>\n",
       "    </tr>\n",
       "    <tr>\n",
       "      <th>8</th>\n",
       "      <td>NaN</td>\n",
       "      <td>EUR/GBP</td>\n",
       "      <td>09015</td>\n",
       "      <td>-</td>\n",
       "      <td>09064</td>\n",
       "      <td>-0,53 %</td>\n",
       "      <td>-00048</td>\n",
       "      <td>21:56:00</td>\n",
       "    </tr>\n",
       "    <tr>\n",
       "      <th>9</th>\n",
       "      <td>NaN</td>\n",
       "      <td>EUR/JPY</td>\n",
       "      <td>1258310</td>\n",
       "      <td>-</td>\n",
       "      <td>1258950</td>\n",
       "      <td>-0,05 %</td>\n",
       "      <td>-00640</td>\n",
       "      <td>21:56:00</td>\n",
       "    </tr>\n",
       "    <tr>\n",
       "      <th>10</th>\n",
       "      <td>NaN</td>\n",
       "      <td>EUR/CHF</td>\n",
       "      <td>10777</td>\n",
       "      <td>-</td>\n",
       "      <td>10762</td>\n",
       "      <td>0,14 %</td>\n",
       "      <td>00016</td>\n",
       "      <td>21:56:00</td>\n",
       "    </tr>\n",
       "    <tr>\n",
       "      <th>11</th>\n",
       "      <td>NaN</td>\n",
       "      <td>Доллар США</td>\n",
       "      <td>Предложение</td>\n",
       "      <td>Спрос</td>\n",
       "      <td>Предыдущее закрытие</td>\n",
       "      <td>%</td>\n",
       "      <td>Абсолютное значение</td>\n",
       "      <td>Время</td>\n",
       "    </tr>\n",
       "    <tr>\n",
       "      <th>12</th>\n",
       "      <td>NaN</td>\n",
       "      <td>USD/EUR</td>\n",
       "      <td>08378</td>\n",
       "      <td>-</td>\n",
       "      <td>08423</td>\n",
       "      <td>-0,54 %</td>\n",
       "      <td>-00045</td>\n",
       "      <td>21:56:00</td>\n",
       "    </tr>\n",
       "    <tr>\n",
       "      <th>13</th>\n",
       "      <td>NaN</td>\n",
       "      <td>USD/GBP</td>\n",
       "      <td>07552</td>\n",
       "      <td>-</td>\n",
       "      <td>07631</td>\n",
       "      <td>-1,04 %</td>\n",
       "      <td>-00080</td>\n",
       "      <td>21:57:00</td>\n",
       "    </tr>\n",
       "    <tr>\n",
       "      <th>14</th>\n",
       "      <td>NaN</td>\n",
       "      <td>USD/JPY</td>\n",
       "      <td>1054195</td>\n",
       "      <td>-</td>\n",
       "      <td>1060300</td>\n",
       "      <td>-0,58 %</td>\n",
       "      <td>-06105</td>\n",
       "      <td>21:56:00</td>\n",
       "    </tr>\n",
       "    <tr>\n",
       "      <th>15</th>\n",
       "      <td>NaN</td>\n",
       "      <td>USD/CHF</td>\n",
       "      <td>09031</td>\n",
       "      <td>-</td>\n",
       "      <td>09063</td>\n",
       "      <td>-0,36 %</td>\n",
       "      <td>-00033</td>\n",
       "      <td>21:56:00</td>\n",
       "    </tr>\n",
       "    <tr>\n",
       "      <th>16</th>\n",
       "      <td>NaN</td>\n",
       "      <td>Японская иена</td>\n",
       "      <td>Предложение</td>\n",
       "      <td>Спрос</td>\n",
       "      <td>Предыдущее закрытие</td>\n",
       "      <td>%</td>\n",
       "      <td>Абсолютное значение</td>\n",
       "      <td>Время</td>\n",
       "    </tr>\n",
       "    <tr>\n",
       "      <th>17</th>\n",
       "      <td>NaN</td>\n",
       "      <td>JPY/EUR (100:1)</td>\n",
       "      <td>07900</td>\n",
       "      <td>-</td>\n",
       "      <td>07900</td>\n",
       "      <td>0,02 %</td>\n",
       "      <td>00000</td>\n",
       "      <td>21:56:00</td>\n",
       "    </tr>\n",
       "    <tr>\n",
       "      <th>18</th>\n",
       "      <td>NaN</td>\n",
       "      <td>JPY/GBP</td>\n",
       "      <td>00072</td>\n",
       "      <td>-</td>\n",
       "      <td>00072</td>\n",
       "      <td>-0,49 %</td>\n",
       "      <td>00000</td>\n",
       "      <td>21:57:00</td>\n",
       "    </tr>\n",
       "    <tr>\n",
       "      <th>19</th>\n",
       "      <td>NaN</td>\n",
       "      <td>JPY/USD</td>\n",
       "      <td>00095</td>\n",
       "      <td>-</td>\n",
       "      <td>00094</td>\n",
       "      <td>0,55 %</td>\n",
       "      <td>00001</td>\n",
       "      <td>21:56:00</td>\n",
       "    </tr>\n",
       "    <tr>\n",
       "      <th>20</th>\n",
       "      <td>NaN</td>\n",
       "      <td>JPY/CHF (100:1)</td>\n",
       "      <td>08600</td>\n",
       "      <td>-</td>\n",
       "      <td>08500</td>\n",
       "      <td>0,24 %</td>\n",
       "      <td>00000</td>\n",
       "      <td>21:56:00</td>\n",
       "    </tr>\n",
       "    <tr>\n",
       "      <th>21</th>\n",
       "      <td>NaN</td>\n",
       "      <td>Фунт стерлингов</td>\n",
       "      <td>Предложение</td>\n",
       "      <td>Спрос</td>\n",
       "      <td>Предыдущее закрытие</td>\n",
       "      <td>%</td>\n",
       "      <td>Абсолютное значение</td>\n",
       "      <td>Время</td>\n",
       "    </tr>\n",
       "    <tr>\n",
       "      <th>22</th>\n",
       "      <td>NaN</td>\n",
       "      <td>GBP/USD</td>\n",
       "      <td>13240</td>\n",
       "      <td>-</td>\n",
       "      <td>13104</td>\n",
       "      <td>1,04 %</td>\n",
       "      <td>00136</td>\n",
       "      <td>21:56:00</td>\n",
       "    </tr>\n",
       "    <tr>\n",
       "      <th>23</th>\n",
       "      <td>NaN</td>\n",
       "      <td>GBP/JPY</td>\n",
       "      <td>1395866</td>\n",
       "      <td>-</td>\n",
       "      <td>1389090</td>\n",
       "      <td>0,49 %</td>\n",
       "      <td>06777</td>\n",
       "      <td>21:57:00</td>\n",
       "    </tr>\n",
       "    <tr>\n",
       "      <th>24</th>\n",
       "      <td>NaN</td>\n",
       "      <td>GBP/EUR</td>\n",
       "      <td>11092</td>\n",
       "      <td>-</td>\n",
       "      <td>11035</td>\n",
       "      <td>0,52 %</td>\n",
       "      <td>00057</td>\n",
       "      <td>21:56:00</td>\n",
       "    </tr>\n",
       "    <tr>\n",
       "      <th>25</th>\n",
       "      <td>NaN</td>\n",
       "      <td>GBP/CHF</td>\n",
       "      <td>11956</td>\n",
       "      <td>-</td>\n",
       "      <td>11876</td>\n",
       "      <td>0,67 %</td>\n",
       "      <td>00080</td>\n",
       "      <td>21:56:00</td>\n",
       "    </tr>\n",
       "    <tr>\n",
       "      <th>26</th>\n",
       "      <td>NaN</td>\n",
       "      <td>Швейцарский франк</td>\n",
       "      <td>Предложение</td>\n",
       "      <td>Спрос</td>\n",
       "      <td>Предыдущее закрытие</td>\n",
       "      <td>%</td>\n",
       "      <td>Абсолютное значение</td>\n",
       "      <td>Время</td>\n",
       "    </tr>\n",
       "    <tr>\n",
       "      <th>27</th>\n",
       "      <td>NaN</td>\n",
       "      <td>GBP/CHF</td>\n",
       "      <td>11956</td>\n",
       "      <td>-</td>\n",
       "      <td>11876</td>\n",
       "      <td>0,67 %</td>\n",
       "      <td>00080</td>\n",
       "      <td>21:56:00</td>\n",
       "    </tr>\n",
       "    <tr>\n",
       "      <th>28</th>\n",
       "      <td>NaN</td>\n",
       "      <td>EUR/CHF</td>\n",
       "      <td>10777</td>\n",
       "      <td>-</td>\n",
       "      <td>10762</td>\n",
       "      <td>0,14 %</td>\n",
       "      <td>00016</td>\n",
       "      <td>21:56:00</td>\n",
       "    </tr>\n",
       "    <tr>\n",
       "      <th>29</th>\n",
       "      <td>NaN</td>\n",
       "      <td>JPY/CHF (100:1)</td>\n",
       "      <td>08600</td>\n",
       "      <td>-</td>\n",
       "      <td>08500</td>\n",
       "      <td>0,24 %</td>\n",
       "      <td>00000</td>\n",
       "      <td>21:56:00</td>\n",
       "    </tr>\n",
       "    <tr>\n",
       "      <th>30</th>\n",
       "      <td>NaN</td>\n",
       "      <td>USD/CHF</td>\n",
       "      <td>09031</td>\n",
       "      <td>-</td>\n",
       "      <td>09063</td>\n",
       "      <td>-0,36 %</td>\n",
       "      <td>-00033</td>\n",
       "      <td>21:56:00</td>\n",
       "    </tr>\n",
       "    <tr>\n",
       "      <th>31</th>\n",
       "      <td>NaN</td>\n",
       "      <td>Украинская гривна</td>\n",
       "      <td>Предложение</td>\n",
       "      <td>Спрос</td>\n",
       "      <td>Предыдущее закрытие</td>\n",
       "      <td>%</td>\n",
       "      <td>Абсолютное значение</td>\n",
       "      <td>Время</td>\n",
       "    </tr>\n",
       "    <tr>\n",
       "      <th>32</th>\n",
       "      <td>NaN</td>\n",
       "      <td>EUR/UAH</td>\n",
       "      <td>326463</td>\n",
       "      <td>-</td>\n",
       "      <td>323526</td>\n",
       "      <td>0,91 %</td>\n",
       "      <td>02938</td>\n",
       "      <td>21:56:00</td>\n",
       "    </tr>\n",
       "    <tr>\n",
       "      <th>33</th>\n",
       "      <td>NaN</td>\n",
       "      <td>USD/UAH</td>\n",
       "      <td>273500</td>\n",
       "      <td>-</td>\n",
       "      <td>272500</td>\n",
       "      <td>0,37 %</td>\n",
       "      <td>01000</td>\n",
       "      <td>21:55:00</td>\n",
       "    </tr>\n",
       "    <tr>\n",
       "      <th>34</th>\n",
       "      <td>NaN</td>\n",
       "      <td>CHF/UAH</td>\n",
       "      <td>302913</td>\n",
       "      <td>-</td>\n",
       "      <td>300640</td>\n",
       "      <td>0,76 %</td>\n",
       "      <td>02273</td>\n",
       "      <td>21:56:00</td>\n",
       "    </tr>\n",
       "    <tr>\n",
       "      <th>35</th>\n",
       "      <td>NaN</td>\n",
       "      <td>GBP/UAH</td>\n",
       "      <td>362141</td>\n",
       "      <td>-</td>\n",
       "      <td>357084</td>\n",
       "      <td>1,42 %</td>\n",
       "      <td>05057</td>\n",
       "      <td>21:57:00</td>\n",
       "    </tr>\n",
       "  </tbody>\n",
       "</table>\n",
       "</div>"
      ],
      "text/plain": [
       "    Unnamed: 0              Рубль  Предложение  Спрос  Предыдущее закрытие  \\\n",
       "0          NaN            GBP/RUB       969292      -               965285   \n",
       "1          NaN            EUR/RUB       873841      -               874640   \n",
       "2          NaN            USD/RUB       732109      -               736634   \n",
       "3          NaN            JPY/RUB        06944      -                06949   \n",
       "4          NaN            CNY/RUB       105766      -               106252   \n",
       "5          NaN            CHF/RUB       810811      -               812703   \n",
       "6          NaN               Евро  Предложение  Спрос  Предыдущее закрытие   \n",
       "7          NaN            EUR/USD        11937      -                11874   \n",
       "8          NaN            EUR/GBP        09015      -                09064   \n",
       "9          NaN            EUR/JPY      1258310      -              1258950   \n",
       "10         NaN            EUR/CHF        10777      -                10762   \n",
       "11         NaN         Доллар США  Предложение  Спрос  Предыдущее закрытие   \n",
       "12         NaN            USD/EUR        08378      -                08423   \n",
       "13         NaN            USD/GBP        07552      -                07631   \n",
       "14         NaN            USD/JPY      1054195      -              1060300   \n",
       "15         NaN            USD/CHF        09031      -                09063   \n",
       "16         NaN      Японская иена  Предложение  Спрос  Предыдущее закрытие   \n",
       "17         NaN    JPY/EUR (100:1)        07900      -                07900   \n",
       "18         NaN            JPY/GBP        00072      -                00072   \n",
       "19         NaN            JPY/USD        00095      -                00094   \n",
       "20         NaN    JPY/CHF (100:1)        08600      -                08500   \n",
       "21         NaN    Фунт стерлингов  Предложение  Спрос  Предыдущее закрытие   \n",
       "22         NaN            GBP/USD        13240      -                13104   \n",
       "23         NaN            GBP/JPY      1395866      -              1389090   \n",
       "24         NaN            GBP/EUR        11092      -                11035   \n",
       "25         NaN            GBP/CHF        11956      -                11876   \n",
       "26         NaN  Швейцарский франк  Предложение  Спрос  Предыдущее закрытие   \n",
       "27         NaN            GBP/CHF        11956      -                11876   \n",
       "28         NaN            EUR/CHF        10777      -                10762   \n",
       "29         NaN    JPY/CHF (100:1)        08600      -                08500   \n",
       "30         NaN            USD/CHF        09031      -                09063   \n",
       "31         NaN  Украинская гривна  Предложение  Спрос  Предыдущее закрытие   \n",
       "32         NaN            EUR/UAH       326463      -               323526   \n",
       "33         NaN            USD/UAH       273500      -               272500   \n",
       "34         NaN            CHF/UAH       302913      -               300640   \n",
       "35         NaN            GBP/UAH       362141      -               357084   \n",
       "\n",
       "          %  Абсолютное значение     Время  \n",
       "0    0,42 %                04006  21:57:00  \n",
       "1   -0,09 %               -00799  21:56:00  \n",
       "2   -0,61 %               -04525  21:56:00  \n",
       "3   -0,07 %               -00005  21:57:00  \n",
       "4   -0,46 %               -00486  21:56:00  \n",
       "5   -0,23 %               -01892  21:56:00  \n",
       "6         %  Абсолютное значение     Время  \n",
       "7    0,53 %                00063  21:56:00  \n",
       "8   -0,53 %               -00048  21:56:00  \n",
       "9   -0,05 %               -00640  21:56:00  \n",
       "10   0,14 %                00016  21:56:00  \n",
       "11        %  Абсолютное значение     Время  \n",
       "12  -0,54 %               -00045  21:56:00  \n",
       "13  -1,04 %               -00080  21:57:00  \n",
       "14  -0,58 %               -06105  21:56:00  \n",
       "15  -0,36 %               -00033  21:56:00  \n",
       "16        %  Абсолютное значение     Время  \n",
       "17   0,02 %                00000  21:56:00  \n",
       "18  -0,49 %                00000  21:57:00  \n",
       "19   0,55 %                00001  21:56:00  \n",
       "20   0,24 %                00000  21:56:00  \n",
       "21        %  Абсолютное значение     Время  \n",
       "22   1,04 %                00136  21:56:00  \n",
       "23   0,49 %                06777  21:57:00  \n",
       "24   0,52 %                00057  21:56:00  \n",
       "25   0,67 %                00080  21:56:00  \n",
       "26        %  Абсолютное значение     Время  \n",
       "27   0,67 %                00080  21:56:00  \n",
       "28   0,14 %                00016  21:56:00  \n",
       "29   0,24 %                00000  21:56:00  \n",
       "30  -0,36 %               -00033  21:56:00  \n",
       "31        %  Абсолютное значение     Время  \n",
       "32   0,91 %                02938  21:56:00  \n",
       "33   0,37 %                01000  21:55:00  \n",
       "34   0,76 %                02273  21:56:00  \n",
       "35   1,42 %                05057  21:57:00  "
      ]
     },
     "execution_count": 61,
     "metadata": {},
     "output_type": "execute_result"
    }
   ],
   "source": [
    "df[:2][0]\n"
   ]
  },
  {
   "cell_type": "code",
   "execution_count": null,
   "metadata": {},
   "outputs": [],
   "source": []
  },
  {
   "cell_type": "code",
   "execution_count": null,
   "metadata": {},
   "outputs": [],
   "source": []
  }
 ],
 "metadata": {
  "kernelspec": {
   "display_name": "Python 3",
   "language": "python",
   "name": "python3"
  },
  "language_info": {
   "codemirror_mode": {
    "name": "ipython",
    "version": 3
   },
   "file_extension": ".py",
   "mimetype": "text/x-python",
   "name": "python",
   "nbconvert_exporter": "python",
   "pygments_lexer": "ipython3",
   "version": "3.7.6"
  }
 },
 "nbformat": 4,
 "nbformat_minor": 2
}
